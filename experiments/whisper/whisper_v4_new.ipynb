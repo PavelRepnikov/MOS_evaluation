{
 "cells": [
  {
   "cell_type": "code",
   "execution_count": 1,
   "id": "6b58a0de-b6d1-4a33-8894-74b7b33e5a7f",
   "metadata": {},
   "outputs": [],
   "source": [
    "import os\n",
    "import json\n",
    "import torch\n",
    "import torch.nn as nn\n",
    "import torch.nn.functional as F\n",
    "import torch.optim as optim\n",
    "from torch.utils.data import Dataset, DataLoader, WeightedRandomSampler\n",
    "import whisper\n",
    "from transformers import BertTokenizer, BertModel\n",
    "import numpy as np\n",
    "from tqdm import tqdm\n",
    "import wandb\n",
    "from collections import Counter\n",
    "from sklearn.metrics import mean_squared_error"
   ]
  },
  {
   "cell_type": "code",
   "execution_count": 2,
   "id": "7aca257b-7570-428d-a0fe-510febdb9727",
   "metadata": {},
   "outputs": [
    {
     "name": "stderr",
     "output_type": "stream",
     "text": [
      "wandb: Using wandb-core as the SDK backend.  Please refer to https://wandb.me/wandb-core for more information.\n",
      "wandb: Currently logged in as: rtfiof (rtfiof-hse-university). Use `wandb login --relogin` to force relogin\n"
     ]
    },
    {
     "data": {
      "text/html": [
       "Tracking run with wandb version 0.18.7"
      ],
      "text/plain": [
       "<IPython.core.display.HTML object>"
      ]
     },
     "metadata": {},
     "output_type": "display_data"
    },
    {
     "data": {
      "text/html": [
       "Run data is saved locally in <code>F:\\Project\\att_2\\wandb\\run-20250316_192024-mxeke8sh</code>"
      ],
      "text/plain": [
       "<IPython.core.display.HTML object>"
      ]
     },
     "metadata": {},
     "output_type": "display_data"
    },
    {
     "data": {
      "text/html": [
       "Syncing run <strong><a href='https://wandb.ai/rtfiof-hse-university/somos-ensemble/runs/mxeke8sh' target=\"_blank\">finetune-whisper-ensemble</a></strong> to <a href='https://wandb.ai/rtfiof-hse-university/somos-ensemble' target=\"_blank\">Weights & Biases</a> (<a href='https://wandb.me/developer-guide' target=\"_blank\">docs</a>)<br/>"
      ],
      "text/plain": [
       "<IPython.core.display.HTML object>"
      ]
     },
     "metadata": {},
     "output_type": "display_data"
    },
    {
     "data": {
      "text/html": [
       " View project at <a href='https://wandb.ai/rtfiof-hse-university/somos-ensemble' target=\"_blank\">https://wandb.ai/rtfiof-hse-university/somos-ensemble</a>"
      ],
      "text/plain": [
       "<IPython.core.display.HTML object>"
      ]
     },
     "metadata": {},
     "output_type": "display_data"
    },
    {
     "data": {
      "text/html": [
       " View run at <a href='https://wandb.ai/rtfiof-hse-university/somos-ensemble/runs/mxeke8sh' target=\"_blank\">https://wandb.ai/rtfiof-hse-university/somos-ensemble/runs/mxeke8sh</a>"
      ],
      "text/plain": [
       "<IPython.core.display.HTML object>"
      ]
     },
     "metadata": {},
     "output_type": "display_data"
    },
    {
     "name": "stdout",
     "output_type": "stream",
     "text": [
      "W&B online. Running your script from this directory will now sync to the cloud.\n"
     ]
    },
    {
     "name": "stderr",
     "output_type": "stream",
     "text": [
      "Exception in thread IntMsgThr:\n",
      "Traceback (most recent call last):\n",
      "  File \"D:\\ProgramData\\anaconda\\envs\\project\\Lib\\threading.py\", line 1075, in _bootstrap_inner\n",
      "    self.run()\n",
      "  File \"D:\\ProgramData\\anaconda\\envs\\project\\Lib\\site-packages\\ipykernel\\ipkernel.py\", line 766, in run_closure\n",
      "    _threading_Thread_run(self)\n",
      "  File \"D:\\ProgramData\\anaconda\\envs\\project\\Lib\\threading.py\", line 1012, in run\n",
      "    self._target(*self._args, **self._kwargs)\n",
      "  File \"D:\\ProgramData\\anaconda\\envs\\project\\Lib\\site-packages\\wandb\\sdk\\wandb_run.py\", line 325, in check_internal_messages\n",
      "    self._loop_check_status(\n",
      "  File \"D:\\ProgramData\\anaconda\\envs\\project\\Lib\\site-packages\\wandb\\sdk\\wandb_run.py\", line 235, in _loop_check_status\n",
      "    local_handle = request()\n",
      "                   ^^^^^^^^^\n",
      "  File \"D:\\ProgramData\\anaconda\\envs\\project\\Lib\\site-packages\\wandb\\sdk\\interface\\interface.py\", line 914, in deliver_internal_messages\n",
      "    return self._deliver_internal_messages(internal_message)\n",
      "           ^^^^^^^^^^^^^^^^^^^^^^^^^^^^^^^^^^^^^^^^^^^^^^^^^\n",
      "  File \"D:\\ProgramData\\anaconda\\envs\\project\\Lib\\site-packages\\wandb\\sdk\\interface\\interface_shared.py\", line 503, in _deliver_internal_messages\n",
      "    return self._deliver_record(record)\n",
      "           ^^^^^^^^^^^^^^^^^^^^^^^^^^^^\n",
      "  File \"D:\\ProgramData\\anaconda\\envs\\project\\Lib\\site-packages\\wandb\\sdk\\interface\\interface_shared.py\", line 452, in _deliver_record\n",
      "    handle = mailbox._deliver_record(record, interface=self)\n",
      "             ^^^^^^^^^^^^^^^^^^^^^^^^^^^^^^^^^^^^^^^^^^^^^^^\n",
      "  File \"D:\\ProgramData\\anaconda\\envs\\project\\Lib\\site-packages\\wandb\\sdk\\lib\\mailbox.py\", line 451, in _deliver_record\n",
      "    interface._publish(record)\n",
      "  File \"D:\\ProgramData\\anaconda\\envs\\project\\Lib\\site-packages\\wandb\\sdk\\interface\\interface_sock.py\", line 51, in _publish\n",
      "    self._sock_client.send_record_publish(record)\n",
      "  File \"D:\\ProgramData\\anaconda\\envs\\project\\Lib\\site-packages\\wandb\\sdk\\lib\\sock_client.py\", line 222, in send_record_publish\n",
      "    self.send_server_request(server_req)\n",
      "  File \"D:\\ProgramData\\anaconda\\envs\\project\\Lib\\site-packages\\wandb\\sdk\\lib\\sock_client.py\", line 154, in send_server_request\n",
      "    self._send_message(msg)\n",
      "  File \"D:\\ProgramData\\anaconda\\envs\\project\\Lib\\site-packages\\wandb\\sdk\\lib\\sock_client.py\", line 151, in _send_message\n",
      "    self._sendall_with_error_handle(header + data)\n",
      "  File \"D:\\ProgramData\\anaconda\\envs\\project\\Lib\\site-packages\\wandb\\sdk\\lib\\sock_client.py\", line 130, in _sendall_with_error_handle\n",
      "    sent = self._sock.send(data)\n",
      "           ^^^^^^^^^^^^^^^^^^^^^\n",
      "ConnectionResetError: [WinError 10054] An existing connection was forcibly closed by the remote host\n",
      "Exception in thread ChkStopThr:\n",
      "Traceback (most recent call last):\n",
      "  File \"D:\\ProgramData\\anaconda\\envs\\project\\Lib\\threading.py\", line 1075, in _bootstrap_inner\n",
      "    self.run()\n",
      "  File \"D:\\ProgramData\\anaconda\\envs\\project\\Lib\\site-packages\\ipykernel\\ipkernel.py\", line 766, in run_closure\n",
      "    _threading_Thread_run(self)\n",
      "  File \"D:\\ProgramData\\anaconda\\envs\\project\\Lib\\threading.py\", line 1012, in run\n",
      "    self._target(*self._args, **self._kwargs)\n",
      "  File \"D:\\ProgramData\\anaconda\\envs\\project\\Lib\\site-packages\\wandb\\sdk\\wandb_run.py\", line 305, in check_stop_status\n",
      "    self._loop_check_status(\n",
      "  File \"D:\\ProgramData\\anaconda\\envs\\project\\Lib\\site-packages\\wandb\\sdk\\wandb_run.py\", line 235, in _loop_check_status\n",
      "    local_handle = request()\n",
      "                   ^^^^^^^^^\n",
      "  File \"D:\\ProgramData\\anaconda\\envs\\project\\Lib\\site-packages\\wandb\\sdk\\interface\\interface.py\", line 898, in deliver_stop_status\n",
      "    return self._deliver_stop_status(status)\n",
      "           ^^^^^^^^^^^^^^^^^^^^^^^^^^^^^^^^^\n",
      "  File \"D:\\ProgramData\\anaconda\\envs\\project\\Lib\\site-packages\\wandb\\sdk\\interface\\interface_shared.py\", line 487, in _deliver_stop_status\n",
      "    return self._deliver_record(record)\n",
      "           ^^^^^^^^^^^^^^^^^^^^^^^^^^^^\n",
      "  File \"D:\\ProgramData\\anaconda\\envs\\project\\Lib\\site-packages\\wandb\\sdk\\interface\\interface_shared.py\", line 452, in _deliver_record\n",
      "    handle = mailbox._deliver_record(record, interface=self)\n",
      "             ^^^^^^^^^^^^^^^^^^^^^^^^^^^^^^^^^^^^^^^^^^^^^^^\n",
      "  File \"D:\\ProgramData\\anaconda\\envs\\project\\Lib\\site-packages\\wandb\\sdk\\lib\\mailbox.py\", line 451, in _deliver_record\n",
      "    interface._publish(record)\n",
      "  File \"D:\\ProgramData\\anaconda\\envs\\project\\Lib\\site-packages\\wandb\\sdk\\interface\\interface_sock.py\", line 51, in _publish\n",
      "    self._sock_client.send_record_publish(record)\n",
      "  File \"D:\\ProgramData\\anaconda\\envs\\project\\Lib\\site-packages\\wandb\\sdk\\lib\\sock_client.py\", line 222, in send_record_publish\n",
      "    self.send_server_request(server_req)\n",
      "  File \"D:\\ProgramData\\anaconda\\envs\\project\\Lib\\site-packages\\wandb\\sdk\\lib\\sock_client.py\", line 154, in send_server_request\n",
      "    self._send_message(msg)\n",
      "  File \"D:\\ProgramData\\anaconda\\envs\\project\\Lib\\site-packages\\wandb\\sdk\\lib\\sock_client.py\", line 151, in _send_message\n",
      "    self._sendall_with_error_handle(header + data)\n",
      "  File \"D:\\ProgramData\\anaconda\\envs\\project\\Lib\\site-packages\\wandb\\sdk\\lib\\sock_client.py\", line 130, in _sendall_with_error_handle\n",
      "    sent = self._sock.send(data)\n",
      "           ^^^^^^^^^^^^^^^^^^^^^\n",
      "ConnectionResetError: [WinError 10054] An existing connection was forcibly closed by the remote host\n"
     ]
    }
   ],
   "source": [
    "device = torch.device(\"cuda:0\" if torch.cuda.is_available() else \"cpu\")\n",
    "\n",
    "# --- Load and Unfreeze Whisper‑medium ---\n",
    "whisper_model = whisper.load_model(\"base.en\").to(device)\n",
    "# Unfreeze all layers in Whisper\n",
    "for param in whisper_model.parameters():\n",
    "    param.requires_grad = True\n",
    "whisper_model.train()  # Set to train mode so gradients are computed\n",
    "\n",
    "# Load BERT tokenizer and model (BERT remains frozen here).\n",
    "tokenizer = BertTokenizer.from_pretrained(\"bert-base-uncased\")\n",
    "bert_model = BertModel.from_pretrained(\"bert-base-uncased\").to(device).eval()\n",
    "\n",
    "# --- Initialize wandb ---\n",
    "wandb.init(project=\"somos-ensemble\", name=\"finetune-whisper-ensemble\")\n",
    "!wandb online"
   ]
  },
  {
   "cell_type": "code",
   "execution_count": 3,
   "id": "81956502-241c-4732-8880-36f7a46062a7",
   "metadata": {},
   "outputs": [
    {
     "data": {
      "text/plain": [
       "device(type='cuda', index=0)"
      ]
     },
     "execution_count": 3,
     "metadata": {},
     "output_type": "execute_result"
    }
   ],
   "source": [
    "device\n"
   ]
  },
  {
   "cell_type": "code",
   "execution_count": 4,
   "id": "cc2e5acf-9c33-4ef7-b17c-ad8077f16d53",
   "metadata": {},
   "outputs": [],
   "source": [
    "# --- Utility Functions ---\n",
    "\n",
    "# Function to compute class weights\n",
    "# Compute class weights for imbalanced dataset\n",
    "def compute_class_weights(labels, num_classes):\n",
    "    class_counts = Counter(labels)\n",
    "    total_samples = sum(class_counts.values())\n",
    "    weights = {cls: total_samples / (num_classes * count) for cls, count in class_counts.items()}\n",
    "    return torch.tensor([weights[i] for i in range(num_classes)], dtype=torch.float).to(device)\n",
    "\n",
    "\n",
    "# Function to compute sample weights for oversampling\n",
    "def get_sample_weights(dataset, class_weights):\n",
    "    sample_weights = []\n",
    "\n",
    "    for _, _, label in dataset:\n",
    "        sample_weights.append(class_weights[label].item())\n",
    "\n",
    "    return torch.tensor(sample_weights, dtype=torch.float)\n",
    "\n",
    "def load_json(filepath):\n",
    "    with open(filepath, \"r\", encoding=\"utf-8\") as f:\n",
    "        return json.load(f)\n",
    "\n",
    "def process_audio_path(clean_path, base_dir=\"data/somos/audios\"):\n",
    "    return os.path.join(base_dir, clean_path.replace(\"\\\\\", \"/\"))\n",
    "\n",
    "# Earth Mover’s Distance (EMD) Loss for ordinal MOS prediction.\n",
    "def emd_loss(y_pred, y_true, num_classes):\n",
    "    y_pred = F.softmax(y_pred, dim=-1)  # Convert logits to probability distribution\n",
    "    y_true = F.one_hot(y_true, num_classes).float()  # Convert labels to one-hot\n",
    "\n",
    "    cdf_pred = torch.cumsum(y_pred, dim=-1)  # Compute cumulative sum for predicted distribution\n",
    "    cdf_true = torch.cumsum(y_true, dim=-1)  # Compute cumulative sum for true distribution\n",
    "\n",
    "    loss = torch.mean((cdf_pred - cdf_true) ** 2)  # Use squared difference for smoother gradients\n",
    "    return loss\n",
    "\n",
    "def entropy_regularization(gate_weights, lambda_reg=0.01):\n",
    "    # Compute entropy loss to encourage diverse gating weights\n",
    "    eps = 1e-8\n",
    "    entropy = -torch.sum(gate_weights * torch.log(gate_weights + eps), dim=1)\n",
    "    return lambda_reg * torch.mean(entropy)\n",
    "\n",
    "def save_model(model, epoch, best_acc, save_path=\"models\"):\n",
    "    os.makedirs(save_path, exist_ok=True)\n",
    "    model_path = os.path.join(save_path, f\"model_epoch_{epoch}.pth\")\n",
    "    torch.save(model.state_dict(), model_path)\n",
    "    best_model_path = os.path.join(save_path, \"best_model.pth\")\n",
    "    if best_acc:\n",
    "        torch.save(model.state_dict(), best_model_path)"
   ]
  },
  {
   "cell_type": "code",
   "execution_count": 5,
   "id": "af3dd2f7-e672-4380-a5f6-e77503c8f2d7",
   "metadata": {},
   "outputs": [],
   "source": [
    "# --- Dataset Class ---\n",
    "class SOMOSDataset(Dataset):\n",
    "    def __init__(self, json_file, base_dir=\"data/somos/audios\"):\n",
    "        self.samples = load_json(json_file)\n",
    "        self.base_dir = base_dir\n",
    "        self.labels = [round(float(sample[\"mos\"])) - 1 for sample in self.samples]  # Round and convert 1-5 to 0-4\n",
    "\n",
    "    def __len__(self):\n",
    "        return len(self.samples)\n",
    "\n",
    "    def __getitem__(self, idx):\n",
    "        sample = self.samples[idx]\n",
    "        text = sample[\"text\"]\n",
    "        label = torch.tensor(round(float(sample[\"mos\"])) - 1, dtype=torch.long)  # Round for classification\n",
    "        audio_path = process_audio_path(sample[\"clean path\"], self.base_dir)\n",
    "        return audio_path, text, label\n",
    "\n",
    "\n",
    "def collate_fn(batch):\n",
    "    audio_paths, texts, labels = zip(*batch)\n",
    "    audios = [whisper.load_audio(path) for path in audio_paths]\n",
    "    audios = [whisper.pad_or_trim(audio) for audio in audios]\n",
    "    mel_spectrograms = [whisper.log_mel_spectrogram(audio).to(device) for audio in audios]\n",
    "    mel_spectrograms = torch.stack(mel_spectrograms)\n",
    "\n",
    "    # Compute audio embeddings with gradients enabled\n",
    "    audio_embeddings = whisper_model.encoder(mel_spectrograms).mean(dim=1)\n",
    "\n",
    "    # Process texts using BERT (BERT remains frozen)\n",
    "    inputs = tokenizer(list(texts), return_tensors=\"pt\", padding=True, truncation=True, max_length=128)\n",
    "    inputs = {key: val.to(device) for key, val in inputs.items()}\n",
    "    with torch.no_grad():\n",
    "        text_embeddings = bert_model(**inputs).last_hidden_state[:, 0, :]\n",
    "\n",
    "    labels = torch.stack(labels).to(device)\n",
    "    return audio_embeddings, text_embeddings, labels\n"
   ]
  },
  {
   "cell_type": "code",
   "execution_count": 6,
   "id": "3d58b1a0-0814-4f13-8671-c8ac126117d8",
   "metadata": {},
   "outputs": [],
   "source": [
    "# --- Model Definitions ---\n",
    "class ComplexFusionSubModel(nn.Module):\n",
    "    def __init__(self, audio_dim, text_dim, hidden_dim, num_classes, dropout_rate=0.05):\n",
    "        super(ComplexFusionSubModel, self).__init__()\n",
    "        self.audio_fc = nn.Sequential(\n",
    "            nn.Linear(audio_dim, hidden_dim),\n",
    "            nn.BatchNorm1d(hidden_dim),\n",
    "            nn.ReLU(),\n",
    "            nn.Dropout(dropout_rate),\n",
    "            nn.Linear(hidden_dim, hidden_dim // 2),\n",
    "            nn.BatchNorm1d(hidden_dim // 2),\n",
    "            nn.ReLU(),\n",
    "            nn.Dropout(dropout_rate),\n",
    "        )\n",
    "        self.text_fc = nn.Sequential(\n",
    "            nn.Linear(text_dim, hidden_dim),\n",
    "            nn.BatchNorm1d(hidden_dim),\n",
    "            nn.ReLU(),\n",
    "            nn.Dropout(dropout_rate),\n",
    "            nn.Linear(hidden_dim, hidden_dim // 2),\n",
    "            nn.BatchNorm1d(hidden_dim // 2),\n",
    "            nn.ReLU(),\n",
    "            nn.Dropout(dropout_rate),\n",
    "        )\n",
    "        self.attention = nn.Sequential(\n",
    "            nn.Linear(hidden_dim, hidden_dim // 2),\n",
    "            nn.Tanh(),\n",
    "            nn.Linear(hidden_dim // 2, 1),\n",
    "            nn.Softmax(dim=1)\n",
    "        )\n",
    "        self.fusion_fc = nn.Sequential(\n",
    "            nn.Linear(hidden_dim, hidden_dim),\n",
    "            nn.BatchNorm1d(hidden_dim),\n",
    "            nn.ReLU(),\n",
    "            nn.Dropout(dropout_rate),\n",
    "            nn.Linear(hidden_dim, hidden_dim // 2),\n",
    "            nn.BatchNorm1d(hidden_dim // 2),\n",
    "            nn.ReLU(),\n",
    "            nn.Dropout(dropout_rate),\n",
    "            nn.Linear(hidden_dim // 2, num_classes)\n",
    "        )\n",
    "\n",
    "    def forward(self, audio_emb, text_emb):\n",
    "        audio_feat = self.audio_fc(audio_emb)\n",
    "        text_feat = self.text_fc(text_emb)\n",
    "        fusion = torch.cat([audio_feat, text_feat], dim=1)\n",
    "        attn_weights = self.attention(fusion)\n",
    "        fusion = fusion * attn_weights\n",
    "        return self.fusion_fc(fusion)\n",
    "\n",
    "class EnsembleFusionClassifier(nn.Module):\n",
    "    def __init__(self, audio_dim, text_dim, hidden_dim, num_classes, dropout_rate=0.05, num_models=3):\n",
    "        super(EnsembleFusionClassifier, self).__init__()\n",
    "        self.num_models = num_models\n",
    "        self.sub_models = nn.ModuleList([\n",
    "            ComplexFusionSubModel(audio_dim, text_dim, hidden_dim, num_classes, dropout_rate)\n",
    "            for _ in range(num_models)\n",
    "        ])\n",
    "        self.gate = nn.Sequential(\n",
    "            nn.Linear(audio_dim + text_dim, hidden_dim),\n",
    "            nn.ReLU(),\n",
    "            nn.Linear(hidden_dim, num_models),\n",
    "            nn.Softmax(dim=1)\n",
    "        )\n",
    "        self.residual = nn.Sequential(\n",
    "            nn.Linear(num_classes, num_classes),\n",
    "            nn.BatchNorm1d(num_classes),\n",
    "            nn.ReLU()\n",
    "        )\n",
    "\n",
    "    def forward(self, audio_emb, text_emb, return_gate=False):\n",
    "        gate_input = torch.cat([audio_emb, text_emb], dim=1)\n",
    "        gate_weights = self.gate(gate_input)  # (batch_size, num_models)\n",
    "        outputs = [model(audio_emb, text_emb) for model in self.sub_models]\n",
    "        outputs = torch.stack(outputs, dim=1)  # (batch_size, num_models, num_classes)\n",
    "        gate_weights_unsq = gate_weights.unsqueeze(2)  # (batch_size, num_models, 1)\n",
    "        ensemble_output = (gate_weights_unsq * outputs).sum(dim=1)\n",
    "        final_output = ensemble_output + self.residual(ensemble_output)\n",
    "        if return_gate:\n",
    "            return final_output, gate_weights\n",
    "        return final_output"
   ]
  },
  {
   "cell_type": "code",
   "execution_count": 7,
   "id": "36a118a2-3e4c-4b58-99ad-166cc2f9b4f2",
   "metadata": {},
   "outputs": [],
   "source": [
    "def main():\n",
    "    train_json = \"data/somos/audios/train_new.json\"\n",
    "    test_json = \"data/somos/audios/test_new.json\"\n",
    "\n",
    "    train_dataset = SOMOSDataset(train_json)\n",
    "    test_dataset = SOMOSDataset(test_json)\n",
    "\n",
    "    # Compute class weights and create weighted sampler\n",
    "    class_weights = compute_class_weights(train_dataset.labels, num_classes=5)\n",
    "    sample_weights = [class_weights[label].item() for label in train_dataset.labels]\n",
    "    sampler = WeightedRandomSampler(sample_weights, len(sample_weights), replacement=True)\n",
    "    \n",
    "    train_loader = DataLoader(train_dataset, batch_size=4, sampler=sampler, collate_fn=collate_fn)\n",
    "    test_loader = DataLoader(test_dataset, batch_size=4, shuffle=False, collate_fn=collate_fn)\n",
    "    \n",
    "    dummy_audio, dummy_text, _ = next(iter(train_loader))\n",
    "    audio_dim, text_dim = dummy_audio.shape[1], dummy_text.shape[1]\n",
    "    num_classes = 5\n",
    "\n",
    "    # Instantiate the ensemble classifier\n",
    "    model = EnsembleFusionClassifier(audio_dim, text_dim, hidden_dim=256, num_classes=num_classes, dropout_rate=0.05, num_models=3).to(device)\n",
    "    \n",
    "    wandb.watch(model, log=\"all\", log_freq=100)\n",
    "    \n",
    "    scaler = torch.cuda.amp.GradScaler()\n",
    "    criterion = lambda y_pred, y_true: emd_loss(y_pred, y_true, num_classes=5)  # EMD loss\n",
    "    optimizer = optim.Adam(model.parameters(), lr=1e-6)\n",
    "\n",
    "    num_epochs = 100\n",
    "    best_mse = float(\"inf\")\n",
    "\n",
    "    for epoch in range(num_epochs):\n",
    "        model.train()\n",
    "        running_loss, total_samples = 0.0, 0\n",
    "        true_labels, predicted_labels = [], []\n",
    "\n",
    "        train_pbar = tqdm(train_loader, desc=f\"Epoch {epoch+1} Training\", leave=False)\n",
    "        for audio_emb, text_emb, labels in train_pbar:\n",
    "            optimizer.zero_grad()\n",
    "            with torch.cuda.amp.autocast():\n",
    "                outputs, gate_weights = model(audio_emb, text_emb, return_gate=True)\n",
    "                loss = criterion(outputs, labels)\n",
    "                loss += entropy_regularization(gate_weights, lambda_reg=0.01)\n",
    "\n",
    "            scaler.scale(loss).backward()\n",
    "            torch.nn.utils.clip_grad_norm_(model.parameters(), max_norm=1.0)\n",
    "            scaler.step(optimizer)\n",
    "            scaler.update()\n",
    "\n",
    "            running_loss += loss.item() * audio_emb.size(0)\n",
    "            total_samples += labels.size(0)\n",
    "\n",
    "            preds = torch.argmax(outputs, dim=1)\n",
    "            true_labels.extend(labels.cpu().tolist())\n",
    "            predicted_labels.extend(preds.cpu().tolist())\n",
    "\n",
    "            wandb.log({\"train_loss\": loss.item()})\n",
    "            train_pbar.set_postfix(loss=loss.item())\n",
    "\n",
    "        train_mse = mean_squared_error([t + 1 for t in true_labels], [p + 1 for p in predicted_labels])\n",
    "        wandb.log({\"train_mse\": train_mse})\n",
    "        print(f\"Epoch {epoch+1}/{num_epochs} - Train Loss: {running_loss/total_samples:.4f} | Train MSE: {train_mse:.4f}\")\n",
    "\n",
    "        # Evaluation Phase\n",
    "        model.eval()\n",
    "        test_loss, total_samples = 0.0, 0\n",
    "        true_labels, predicted_labels = [], []\n",
    "\n",
    "        with torch.no_grad():\n",
    "            test_pbar = tqdm(test_loader, desc=f\"Epoch {epoch+1} Validation\", leave=False)\n",
    "            for audio_emb, text_emb, labels in test_pbar:\n",
    "                audio_emb = audio_emb.to(device)\n",
    "                text_emb = text_emb.to(device)\n",
    "                labels = labels.to(device)\n",
    "\n",
    "                outputs = model(audio_emb, text_emb)\n",
    "                loss = criterion(outputs, labels)\n",
    "\n",
    "                test_loss += loss.item() * audio_emb.size(0)\n",
    "                total_samples += labels.size(0)\n",
    "\n",
    "                preds = torch.argmax(outputs, dim=1)\n",
    "                true_labels.extend(labels.cpu().tolist())\n",
    "                predicted_labels.extend(preds.cpu().tolist())\n",
    "\n",
    "                test_pbar.set_postfix(loss=loss.item())\n",
    "\n",
    "        test_mse = mean_squared_error([t + 1 for t in true_labels], [p + 1 for p in predicted_labels])\n",
    "        avg_test_loss = test_loss / total_samples\n",
    "        wandb.log({\"val_loss\": avg_test_loss, \"val_mse\": test_mse})\n",
    "        print(f\"Epoch {epoch+1}/{num_epochs} - Val Loss: {avg_test_loss:.4f} | Val MSE: {test_mse:.4f}\")\n",
    "\n",
    "        # Print sample predictions\n",
    "        print(\"\\nSample Predictions (Real MOS vs Predicted MOS):\")\n",
    "        for i, (real_mos, pred_mos) in enumerate(zip(true_labels[:5], predicted_labels[:5])):\n",
    "            print(f\"Example {i+1}: Real MOS = {real_mos + 1}, Predicted MOS = {pred_mos + 1}\")\n",
    "            wandb.log({f\"sample_{i}_real_vs_pred\": f\"{real_mos+1} vs {pred_mos+1}\"})\n",
    "\n",
    "        # Save model if it improves\n",
    "        save_model(model, epoch + 1, test_mse < best_mse)\n",
    "\n",
    "        if test_mse < best_mse:\n",
    "            best_mse = test_mse\n",
    "\n",
    "    print(\"Training complete! Best validation MSE:\", best_mse)"
   ]
  },
  {
   "cell_type": "code",
   "execution_count": 8,
   "id": "e6da0ed7-7510-44f7-a47f-e2c76c940059",
   "metadata": {},
   "outputs": [
    {
     "name": "stderr",
     "output_type": "stream",
     "text": [
      "C:\\Users\\q\\AppData\\Local\\Temp\\ipykernel_17128\\4199959549.py:25: FutureWarning: `torch.cuda.amp.GradScaler(args...)` is deprecated. Please use `torch.amp.GradScaler('cuda', args...)` instead.\n",
      "  scaler = torch.cuda.amp.GradScaler()\n",
      "Epoch 1 Training:   0%|                                                                       | 0/3525 [00:00<?, ?it/s]C:\\Users\\q\\AppData\\Local\\Temp\\ipykernel_17128\\4199959549.py:40: FutureWarning: `torch.cuda.amp.autocast(args...)` is deprecated. Please use `torch.amp.autocast('cuda', args...)` instead.\n",
      "  with torch.cuda.amp.autocast():\n",
      "                                                                                                                       \r"
     ]
    },
    {
     "name": "stdout",
     "output_type": "stream",
     "text": [
      "Epoch 1/100 - Train Loss: 0.1757 | Train MSE: 3.8111\n"
     ]
    },
    {
     "name": "stderr",
     "output_type": "stream",
     "text": [
      "                                                                                                                       \r"
     ]
    },
    {
     "name": "stdout",
     "output_type": "stream",
     "text": [
      "Epoch 1/100 - Val Loss: 0.0975 | Val MSE: 2.1070\n",
      "\n",
      "Sample Predictions (Real MOS vs Predicted MOS):\n",
      "Example 1: Real MOS = 4, Predicted MOS = 5\n",
      "Example 2: Real MOS = 4, Predicted MOS = 3\n",
      "Example 3: Real MOS = 4, Predicted MOS = 3\n",
      "Example 4: Real MOS = 3, Predicted MOS = 3\n",
      "Example 5: Real MOS = 3, Predicted MOS = 5\n"
     ]
    },
    {
     "name": "stderr",
     "output_type": "stream",
     "text": [
      "Epoch 2 Training:   0%|                                                                       | 0/3525 [00:00<?, ?it/s]C:\\Users\\q\\AppData\\Local\\Temp\\ipykernel_17128\\4199959549.py:40: FutureWarning: `torch.cuda.amp.autocast(args...)` is deprecated. Please use `torch.amp.autocast('cuda', args...)` instead.\n",
      "  with torch.cuda.amp.autocast():\n",
      "                                                                                                                       \r"
     ]
    },
    {
     "name": "stdout",
     "output_type": "stream",
     "text": [
      "Epoch 2/100 - Train Loss: 0.1692 | Train MSE: 3.2772\n"
     ]
    },
    {
     "name": "stderr",
     "output_type": "stream",
     "text": [
      "                                                                                                                       \r"
     ]
    },
    {
     "name": "stdout",
     "output_type": "stream",
     "text": [
      "Epoch 2/100 - Val Loss: 0.0944 | Val MSE: 1.6410\n",
      "\n",
      "Sample Predictions (Real MOS vs Predicted MOS):\n",
      "Example 1: Real MOS = 4, Predicted MOS = 5\n",
      "Example 2: Real MOS = 4, Predicted MOS = 3\n",
      "Example 3: Real MOS = 4, Predicted MOS = 3\n",
      "Example 4: Real MOS = 3, Predicted MOS = 2\n",
      "Example 5: Real MOS = 3, Predicted MOS = 3\n"
     ]
    },
    {
     "name": "stderr",
     "output_type": "stream",
     "text": [
      "Epoch 3 Training:   0%|                                                                       | 0/3525 [00:00<?, ?it/s]C:\\Users\\q\\AppData\\Local\\Temp\\ipykernel_17128\\4199959549.py:40: FutureWarning: `torch.cuda.amp.autocast(args...)` is deprecated. Please use `torch.amp.autocast('cuda', args...)` instead.\n",
      "  with torch.cuda.amp.autocast():\n",
      "                                                                                                                       \r"
     ]
    },
    {
     "name": "stdout",
     "output_type": "stream",
     "text": [
      "Epoch 3/100 - Train Loss: 0.1628 | Train MSE: 2.9557\n"
     ]
    },
    {
     "name": "stderr",
     "output_type": "stream",
     "text": [
      "                                                                                                                       \r"
     ]
    },
    {
     "name": "stdout",
     "output_type": "stream",
     "text": [
      "Epoch 3/100 - Val Loss: 0.0955 | Val MSE: 1.6977\n",
      "\n",
      "Sample Predictions (Real MOS vs Predicted MOS):\n",
      "Example 1: Real MOS = 4, Predicted MOS = 3\n",
      "Example 2: Real MOS = 4, Predicted MOS = 3\n",
      "Example 3: Real MOS = 4, Predicted MOS = 3\n",
      "Example 4: Real MOS = 3, Predicted MOS = 2\n",
      "Example 5: Real MOS = 3, Predicted MOS = 5\n"
     ]
    },
    {
     "name": "stderr",
     "output_type": "stream",
     "text": [
      "Epoch 4 Training:   0%|                                                                       | 0/3525 [00:00<?, ?it/s]C:\\Users\\q\\AppData\\Local\\Temp\\ipykernel_17128\\4199959549.py:40: FutureWarning: `torch.cuda.amp.autocast(args...)` is deprecated. Please use `torch.amp.autocast('cuda', args...)` instead.\n",
      "  with torch.cuda.amp.autocast():\n",
      "                                                                                                                       \r"
     ]
    },
    {
     "name": "stdout",
     "output_type": "stream",
     "text": [
      "Epoch 4/100 - Train Loss: 0.1591 | Train MSE: 2.7748\n"
     ]
    },
    {
     "name": "stderr",
     "output_type": "stream",
     "text": [
      "                                                                                                                       \r"
     ]
    },
    {
     "name": "stdout",
     "output_type": "stream",
     "text": [
      "Epoch 4/100 - Val Loss: 0.0946 | Val MSE: 1.6790\n",
      "\n",
      "Sample Predictions (Real MOS vs Predicted MOS):\n",
      "Example 1: Real MOS = 4, Predicted MOS = 3\n",
      "Example 2: Real MOS = 4, Predicted MOS = 3\n",
      "Example 3: Real MOS = 4, Predicted MOS = 3\n",
      "Example 4: Real MOS = 3, Predicted MOS = 5\n",
      "Example 5: Real MOS = 3, Predicted MOS = 5\n"
     ]
    },
    {
     "name": "stderr",
     "output_type": "stream",
     "text": [
      "Epoch 5 Training:   0%|                                                                       | 0/3525 [00:00<?, ?it/s]C:\\Users\\q\\AppData\\Local\\Temp\\ipykernel_17128\\4199959549.py:40: FutureWarning: `torch.cuda.amp.autocast(args...)` is deprecated. Please use `torch.amp.autocast('cuda', args...)` instead.\n",
      "  with torch.cuda.amp.autocast():\n",
      "                                                                                                                       \r"
     ]
    },
    {
     "name": "stdout",
     "output_type": "stream",
     "text": [
      "Epoch 5/100 - Train Loss: 0.1549 | Train MSE: 2.6394\n"
     ]
    },
    {
     "name": "stderr",
     "output_type": "stream",
     "text": [
      "                                                                                                                       \r"
     ]
    },
    {
     "name": "stdout",
     "output_type": "stream",
     "text": [
      "Epoch 5/100 - Val Loss: 0.0957 | Val MSE: 1.5643\n",
      "\n",
      "Sample Predictions (Real MOS vs Predicted MOS):\n",
      "Example 1: Real MOS = 4, Predicted MOS = 5\n",
      "Example 2: Real MOS = 4, Predicted MOS = 3\n",
      "Example 3: Real MOS = 4, Predicted MOS = 1\n",
      "Example 4: Real MOS = 3, Predicted MOS = 5\n",
      "Example 5: Real MOS = 3, Predicted MOS = 3\n"
     ]
    },
    {
     "name": "stderr",
     "output_type": "stream",
     "text": [
      "Epoch 6 Training:   0%|                                                                       | 0/3525 [00:00<?, ?it/s]C:\\Users\\q\\AppData\\Local\\Temp\\ipykernel_17128\\4199959549.py:40: FutureWarning: `torch.cuda.amp.autocast(args...)` is deprecated. Please use `torch.amp.autocast('cuda', args...)` instead.\n",
      "  with torch.cuda.amp.autocast():\n",
      "                                                                                                                       \r"
     ]
    },
    {
     "name": "stdout",
     "output_type": "stream",
     "text": [
      "Epoch 6/100 - Train Loss: 0.1502 | Train MSE: 2.5564\n"
     ]
    },
    {
     "name": "stderr",
     "output_type": "stream",
     "text": [
      "                                                                                                                       \r"
     ]
    },
    {
     "name": "stdout",
     "output_type": "stream",
     "text": [
      "Epoch 6/100 - Val Loss: 0.0920 | Val MSE: 1.3307\n",
      "\n",
      "Sample Predictions (Real MOS vs Predicted MOS):\n",
      "Example 1: Real MOS = 4, Predicted MOS = 4\n",
      "Example 2: Real MOS = 4, Predicted MOS = 4\n",
      "Example 3: Real MOS = 4, Predicted MOS = 3\n",
      "Example 4: Real MOS = 3, Predicted MOS = 1\n",
      "Example 5: Real MOS = 3, Predicted MOS = 5\n"
     ]
    },
    {
     "name": "stderr",
     "output_type": "stream",
     "text": [
      "Epoch 7 Training:   0%|                                                                       | 0/3525 [00:00<?, ?it/s]C:\\Users\\q\\AppData\\Local\\Temp\\ipykernel_17128\\4199959549.py:40: FutureWarning: `torch.cuda.amp.autocast(args...)` is deprecated. Please use `torch.amp.autocast('cuda', args...)` instead.\n",
      "  with torch.cuda.amp.autocast():\n",
      "                                                                                                                       \r"
     ]
    },
    {
     "name": "stdout",
     "output_type": "stream",
     "text": [
      "Epoch 7/100 - Train Loss: 0.1465 | Train MSE: 2.4165\n"
     ]
    },
    {
     "name": "stderr",
     "output_type": "stream",
     "text": [
      "                                                                                                                       \r"
     ]
    },
    {
     "name": "stdout",
     "output_type": "stream",
     "text": [
      "Epoch 7/100 - Val Loss: 0.0922 | Val MSE: 1.4557\n",
      "\n",
      "Sample Predictions (Real MOS vs Predicted MOS):\n",
      "Example 1: Real MOS = 4, Predicted MOS = 4\n",
      "Example 2: Real MOS = 4, Predicted MOS = 4\n",
      "Example 3: Real MOS = 4, Predicted MOS = 3\n",
      "Example 4: Real MOS = 3, Predicted MOS = 5\n",
      "Example 5: Real MOS = 3, Predicted MOS = 5\n"
     ]
    },
    {
     "name": "stderr",
     "output_type": "stream",
     "text": [
      "Epoch 8 Training:   0%|                                                                       | 0/3525 [00:00<?, ?it/s]C:\\Users\\q\\AppData\\Local\\Temp\\ipykernel_17128\\4199959549.py:40: FutureWarning: `torch.cuda.amp.autocast(args...)` is deprecated. Please use `torch.amp.autocast('cuda', args...)` instead.\n",
      "  with torch.cuda.amp.autocast():\n",
      "                                                                                                                       \r"
     ]
    },
    {
     "name": "stdout",
     "output_type": "stream",
     "text": [
      "Epoch 8/100 - Train Loss: 0.1434 | Train MSE: 2.3624\n"
     ]
    },
    {
     "name": "stderr",
     "output_type": "stream",
     "text": [
      "                                                                                                                       \r"
     ]
    },
    {
     "name": "stdout",
     "output_type": "stream",
     "text": [
      "Epoch 8/100 - Val Loss: 0.0919 | Val MSE: 1.4513\n",
      "\n",
      "Sample Predictions (Real MOS vs Predicted MOS):\n",
      "Example 1: Real MOS = 4, Predicted MOS = 4\n",
      "Example 2: Real MOS = 4, Predicted MOS = 3\n",
      "Example 3: Real MOS = 4, Predicted MOS = 3\n",
      "Example 4: Real MOS = 3, Predicted MOS = 5\n",
      "Example 5: Real MOS = 3, Predicted MOS = 5\n"
     ]
    },
    {
     "name": "stderr",
     "output_type": "stream",
     "text": [
      "Epoch 9 Training:   0%|                                                                       | 0/3525 [00:00<?, ?it/s]C:\\Users\\q\\AppData\\Local\\Temp\\ipykernel_17128\\4199959549.py:40: FutureWarning: `torch.cuda.amp.autocast(args...)` is deprecated. Please use `torch.amp.autocast('cuda', args...)` instead.\n",
      "  with torch.cuda.amp.autocast():\n",
      "                                                                                                                       \r"
     ]
    },
    {
     "name": "stdout",
     "output_type": "stream",
     "text": [
      "Epoch 9/100 - Train Loss: 0.1409 | Train MSE: 2.3267\n"
     ]
    },
    {
     "name": "stderr",
     "output_type": "stream",
     "text": [
      "                                                                                                                       \r"
     ]
    },
    {
     "name": "stdout",
     "output_type": "stream",
     "text": [
      "Epoch 9/100 - Val Loss: 0.0921 | Val MSE: 1.5393\n",
      "\n",
      "Sample Predictions (Real MOS vs Predicted MOS):\n",
      "Example 1: Real MOS = 4, Predicted MOS = 4\n",
      "Example 2: Real MOS = 4, Predicted MOS = 4\n",
      "Example 3: Real MOS = 4, Predicted MOS = 3\n",
      "Example 4: Real MOS = 3, Predicted MOS = 5\n",
      "Example 5: Real MOS = 3, Predicted MOS = 5\n"
     ]
    },
    {
     "name": "stderr",
     "output_type": "stream",
     "text": [
      "Epoch 10 Training:   0%|                                                                      | 0/3525 [00:00<?, ?it/s]C:\\Users\\q\\AppData\\Local\\Temp\\ipykernel_17128\\4199959549.py:40: FutureWarning: `torch.cuda.amp.autocast(args...)` is deprecated. Please use `torch.amp.autocast('cuda', args...)` instead.\n",
      "  with torch.cuda.amp.autocast():\n",
      "                                                                                                                       \r"
     ]
    },
    {
     "name": "stdout",
     "output_type": "stream",
     "text": [
      "Epoch 10/100 - Train Loss: 0.1385 | Train MSE: 2.2379\n"
     ]
    },
    {
     "name": "stderr",
     "output_type": "stream",
     "text": [
      "                                                                                                                       \r"
     ]
    },
    {
     "name": "stdout",
     "output_type": "stream",
     "text": [
      "Epoch 10/100 - Val Loss: 0.0923 | Val MSE: 1.3123\n",
      "\n",
      "Sample Predictions (Real MOS vs Predicted MOS):\n",
      "Example 1: Real MOS = 4, Predicted MOS = 4\n",
      "Example 2: Real MOS = 4, Predicted MOS = 4\n",
      "Example 3: Real MOS = 4, Predicted MOS = 3\n",
      "Example 4: Real MOS = 3, Predicted MOS = 5\n",
      "Example 5: Real MOS = 3, Predicted MOS = 5\n"
     ]
    },
    {
     "name": "stderr",
     "output_type": "stream",
     "text": [
      "Epoch 11 Training:   0%|                                                                      | 0/3525 [00:00<?, ?it/s]C:\\Users\\q\\AppData\\Local\\Temp\\ipykernel_17128\\4199959549.py:40: FutureWarning: `torch.cuda.amp.autocast(args...)` is deprecated. Please use `torch.amp.autocast('cuda', args...)` instead.\n",
      "  with torch.cuda.amp.autocast():\n",
      "                                                                                                                       \r"
     ]
    },
    {
     "name": "stdout",
     "output_type": "stream",
     "text": [
      "Epoch 11/100 - Train Loss: 0.1351 | Train MSE: 2.1934\n"
     ]
    },
    {
     "name": "stderr",
     "output_type": "stream",
     "text": [
      "                                                                                                                       \r"
     ]
    },
    {
     "name": "stdout",
     "output_type": "stream",
     "text": [
      "Epoch 11/100 - Val Loss: 0.0956 | Val MSE: 1.6737\n",
      "\n",
      "Sample Predictions (Real MOS vs Predicted MOS):\n",
      "Example 1: Real MOS = 4, Predicted MOS = 5\n",
      "Example 2: Real MOS = 4, Predicted MOS = 4\n",
      "Example 3: Real MOS = 4, Predicted MOS = 3\n",
      "Example 4: Real MOS = 3, Predicted MOS = 5\n",
      "Example 5: Real MOS = 3, Predicted MOS = 5\n"
     ]
    },
    {
     "name": "stderr",
     "output_type": "stream",
     "text": [
      "Epoch 12 Training:   0%|                                                                      | 0/3525 [00:00<?, ?it/s]C:\\Users\\q\\AppData\\Local\\Temp\\ipykernel_17128\\4199959549.py:40: FutureWarning: `torch.cuda.amp.autocast(args...)` is deprecated. Please use `torch.amp.autocast('cuda', args...)` instead.\n",
      "  with torch.cuda.amp.autocast():\n",
      "                                                                                                                       \r"
     ]
    },
    {
     "name": "stdout",
     "output_type": "stream",
     "text": [
      "Epoch 12/100 - Train Loss: 0.1320 | Train MSE: 2.0660\n"
     ]
    },
    {
     "name": "stderr",
     "output_type": "stream",
     "text": [
      "                                                                                                                       \r"
     ]
    },
    {
     "name": "stdout",
     "output_type": "stream",
     "text": [
      "Epoch 12/100 - Val Loss: 0.0904 | Val MSE: 1.4070\n",
      "\n",
      "Sample Predictions (Real MOS vs Predicted MOS):\n",
      "Example 1: Real MOS = 4, Predicted MOS = 4\n",
      "Example 2: Real MOS = 4, Predicted MOS = 4\n",
      "Example 3: Real MOS = 4, Predicted MOS = 3\n",
      "Example 4: Real MOS = 3, Predicted MOS = 5\n",
      "Example 5: Real MOS = 3, Predicted MOS = 5\n"
     ]
    },
    {
     "name": "stderr",
     "output_type": "stream",
     "text": [
      "Epoch 13 Training:   0%|                                                                      | 0/3525 [00:00<?, ?it/s]C:\\Users\\q\\AppData\\Local\\Temp\\ipykernel_17128\\4199959549.py:40: FutureWarning: `torch.cuda.amp.autocast(args...)` is deprecated. Please use `torch.amp.autocast('cuda', args...)` instead.\n",
      "  with torch.cuda.amp.autocast():\n",
      "                                                                                                                       \r"
     ]
    },
    {
     "name": "stdout",
     "output_type": "stream",
     "text": [
      "Epoch 13/100 - Train Loss: 0.1313 | Train MSE: 2.0439\n"
     ]
    },
    {
     "name": "stderr",
     "output_type": "stream",
     "text": [
      "                                                                                                                       \r"
     ]
    },
    {
     "name": "stdout",
     "output_type": "stream",
     "text": [
      "Epoch 13/100 - Val Loss: 0.0939 | Val MSE: 1.6380\n",
      "\n",
      "Sample Predictions (Real MOS vs Predicted MOS):\n",
      "Example 1: Real MOS = 4, Predicted MOS = 5\n",
      "Example 2: Real MOS = 4, Predicted MOS = 4\n",
      "Example 3: Real MOS = 4, Predicted MOS = 3\n",
      "Example 4: Real MOS = 3, Predicted MOS = 5\n",
      "Example 5: Real MOS = 3, Predicted MOS = 5\n"
     ]
    },
    {
     "name": "stderr",
     "output_type": "stream",
     "text": [
      "Epoch 14 Training:   0%|                                                                      | 0/3525 [00:00<?, ?it/s]C:\\Users\\q\\AppData\\Local\\Temp\\ipykernel_17128\\4199959549.py:40: FutureWarning: `torch.cuda.amp.autocast(args...)` is deprecated. Please use `torch.amp.autocast('cuda', args...)` instead.\n",
      "  with torch.cuda.amp.autocast():\n",
      "                                                                                                                       \r"
     ]
    },
    {
     "name": "stdout",
     "output_type": "stream",
     "text": [
      "Epoch 14/100 - Train Loss: 0.1275 | Train MSE: 1.9744\n"
     ]
    },
    {
     "name": "stderr",
     "output_type": "stream",
     "text": [
      "                                                                                                                       \r"
     ]
    },
    {
     "name": "stdout",
     "output_type": "stream",
     "text": [
      "Epoch 14/100 - Val Loss: 0.0904 | Val MSE: 1.5663\n",
      "\n",
      "Sample Predictions (Real MOS vs Predicted MOS):\n",
      "Example 1: Real MOS = 4, Predicted MOS = 4\n",
      "Example 2: Real MOS = 4, Predicted MOS = 4\n",
      "Example 3: Real MOS = 4, Predicted MOS = 3\n",
      "Example 4: Real MOS = 3, Predicted MOS = 5\n",
      "Example 5: Real MOS = 3, Predicted MOS = 5\n"
     ]
    },
    {
     "name": "stderr",
     "output_type": "stream",
     "text": [
      "Epoch 15 Training:   0%|                                                                      | 0/3525 [00:00<?, ?it/s]C:\\Users\\q\\AppData\\Local\\Temp\\ipykernel_17128\\4199959549.py:40: FutureWarning: `torch.cuda.amp.autocast(args...)` is deprecated. Please use `torch.amp.autocast('cuda', args...)` instead.\n",
      "  with torch.cuda.amp.autocast():\n",
      "                                                                                                                       \r"
     ]
    },
    {
     "name": "stdout",
     "output_type": "stream",
     "text": [
      "Epoch 15/100 - Train Loss: 0.1253 | Train MSE: 1.9318\n"
     ]
    },
    {
     "name": "stderr",
     "output_type": "stream",
     "text": [
      "                                                                                                                       \r"
     ]
    },
    {
     "name": "stdout",
     "output_type": "stream",
     "text": [
      "Epoch 15/100 - Val Loss: 0.0916 | Val MSE: 1.6870\n",
      "\n",
      "Sample Predictions (Real MOS vs Predicted MOS):\n",
      "Example 1: Real MOS = 4, Predicted MOS = 5\n",
      "Example 2: Real MOS = 4, Predicted MOS = 5\n",
      "Example 3: Real MOS = 4, Predicted MOS = 1\n",
      "Example 4: Real MOS = 3, Predicted MOS = 5\n",
      "Example 5: Real MOS = 3, Predicted MOS = 5\n"
     ]
    },
    {
     "name": "stderr",
     "output_type": "stream",
     "text": [
      "Epoch 16 Training:   0%|                                                                      | 0/3525 [00:00<?, ?it/s]C:\\Users\\q\\AppData\\Local\\Temp\\ipykernel_17128\\4199959549.py:40: FutureWarning: `torch.cuda.amp.autocast(args...)` is deprecated. Please use `torch.amp.autocast('cuda', args...)` instead.\n",
      "  with torch.cuda.amp.autocast():\n",
      "                                                                                                                       \r"
     ]
    },
    {
     "name": "stdout",
     "output_type": "stream",
     "text": [
      "Epoch 16/100 - Train Loss: 0.1252 | Train MSE: 1.9604\n"
     ]
    },
    {
     "name": "stderr",
     "output_type": "stream",
     "text": [
      "                                                                                                                       \r"
     ]
    },
    {
     "name": "stdout",
     "output_type": "stream",
     "text": [
      "Epoch 16/100 - Val Loss: 0.0902 | Val MSE: 1.5520\n",
      "\n",
      "Sample Predictions (Real MOS vs Predicted MOS):\n",
      "Example 1: Real MOS = 4, Predicted MOS = 4\n",
      "Example 2: Real MOS = 4, Predicted MOS = 5\n",
      "Example 3: Real MOS = 4, Predicted MOS = 3\n",
      "Example 4: Real MOS = 3, Predicted MOS = 5\n",
      "Example 5: Real MOS = 3, Predicted MOS = 5\n"
     ]
    },
    {
     "name": "stderr",
     "output_type": "stream",
     "text": [
      "Epoch 17 Training:   0%|                                                                      | 0/3525 [00:00<?, ?it/s]C:\\Users\\q\\AppData\\Local\\Temp\\ipykernel_17128\\4199959549.py:40: FutureWarning: `torch.cuda.amp.autocast(args...)` is deprecated. Please use `torch.amp.autocast('cuda', args...)` instead.\n",
      "  with torch.cuda.amp.autocast():\n",
      "                                                                                                                       \r"
     ]
    },
    {
     "name": "stdout",
     "output_type": "stream",
     "text": [
      "Epoch 17/100 - Train Loss: 0.1206 | Train MSE: 1.8390\n"
     ]
    },
    {
     "name": "stderr",
     "output_type": "stream",
     "text": [
      "                                                                                                                       \r"
     ]
    },
    {
     "name": "stdout",
     "output_type": "stream",
     "text": [
      "Epoch 17/100 - Val Loss: 0.0889 | Val MSE: 1.6450\n",
      "\n",
      "Sample Predictions (Real MOS vs Predicted MOS):\n",
      "Example 1: Real MOS = 4, Predicted MOS = 5\n",
      "Example 2: Real MOS = 4, Predicted MOS = 4\n",
      "Example 3: Real MOS = 4, Predicted MOS = 3\n",
      "Example 4: Real MOS = 3, Predicted MOS = 5\n",
      "Example 5: Real MOS = 3, Predicted MOS = 5\n"
     ]
    },
    {
     "name": "stderr",
     "output_type": "stream",
     "text": [
      "Epoch 18 Training:   0%|                                                                      | 0/3525 [00:00<?, ?it/s]C:\\Users\\q\\AppData\\Local\\Temp\\ipykernel_17128\\4199959549.py:40: FutureWarning: `torch.cuda.amp.autocast(args...)` is deprecated. Please use `torch.amp.autocast('cuda', args...)` instead.\n",
      "  with torch.cuda.amp.autocast():\n",
      "                                                                                                                       \r"
     ]
    },
    {
     "name": "stdout",
     "output_type": "stream",
     "text": [
      "Epoch 18/100 - Train Loss: 0.1166 | Train MSE: 1.7897\n"
     ]
    },
    {
     "name": "stderr",
     "output_type": "stream",
     "text": [
      "                                                                                                                       \r"
     ]
    },
    {
     "name": "stdout",
     "output_type": "stream",
     "text": [
      "Epoch 18/100 - Val Loss: 0.0894 | Val MSE: 1.5860\n",
      "\n",
      "Sample Predictions (Real MOS vs Predicted MOS):\n",
      "Example 1: Real MOS = 4, Predicted MOS = 4\n",
      "Example 2: Real MOS = 4, Predicted MOS = 4\n",
      "Example 3: Real MOS = 4, Predicted MOS = 5\n",
      "Example 4: Real MOS = 3, Predicted MOS = 5\n",
      "Example 5: Real MOS = 3, Predicted MOS = 5\n"
     ]
    },
    {
     "name": "stderr",
     "output_type": "stream",
     "text": [
      "Epoch 19 Training:   0%|                                                                      | 0/3525 [00:00<?, ?it/s]C:\\Users\\q\\AppData\\Local\\Temp\\ipykernel_17128\\4199959549.py:40: FutureWarning: `torch.cuda.amp.autocast(args...)` is deprecated. Please use `torch.amp.autocast('cuda', args...)` instead.\n",
      "  with torch.cuda.amp.autocast():\n",
      "                                                                                                                       \r"
     ]
    },
    {
     "name": "stdout",
     "output_type": "stream",
     "text": [
      "Epoch 19/100 - Train Loss: 0.1157 | Train MSE: 1.8020\n"
     ]
    },
    {
     "name": "stderr",
     "output_type": "stream",
     "text": [
      "                                                                                                                       \r"
     ]
    },
    {
     "name": "stdout",
     "output_type": "stream",
     "text": [
      "Epoch 19/100 - Val Loss: 0.0896 | Val MSE: 1.6760\n",
      "\n",
      "Sample Predictions (Real MOS vs Predicted MOS):\n",
      "Example 1: Real MOS = 4, Predicted MOS = 4\n",
      "Example 2: Real MOS = 4, Predicted MOS = 4\n",
      "Example 3: Real MOS = 4, Predicted MOS = 3\n",
      "Example 4: Real MOS = 3, Predicted MOS = 5\n",
      "Example 5: Real MOS = 3, Predicted MOS = 5\n"
     ]
    },
    {
     "name": "stderr",
     "output_type": "stream",
     "text": [
      "Epoch 20 Training:   0%|                                                                      | 0/3525 [00:00<?, ?it/s]C:\\Users\\q\\AppData\\Local\\Temp\\ipykernel_17128\\4199959549.py:40: FutureWarning: `torch.cuda.amp.autocast(args...)` is deprecated. Please use `torch.amp.autocast('cuda', args...)` instead.\n",
      "  with torch.cuda.amp.autocast():\n",
      "                                                                                                                       \r"
     ]
    },
    {
     "name": "stdout",
     "output_type": "stream",
     "text": [
      "Epoch 20/100 - Train Loss: 0.1128 | Train MSE: 1.7559\n"
     ]
    },
    {
     "name": "stderr",
     "output_type": "stream",
     "text": [
      "                                                                                                                       \r"
     ]
    },
    {
     "name": "stdout",
     "output_type": "stream",
     "text": [
      "Epoch 20/100 - Val Loss: 0.0890 | Val MSE: 1.6253\n",
      "\n",
      "Sample Predictions (Real MOS vs Predicted MOS):\n",
      "Example 1: Real MOS = 4, Predicted MOS = 5\n",
      "Example 2: Real MOS = 4, Predicted MOS = 4\n",
      "Example 3: Real MOS = 4, Predicted MOS = 5\n",
      "Example 4: Real MOS = 3, Predicted MOS = 5\n",
      "Example 5: Real MOS = 3, Predicted MOS = 5\n"
     ]
    },
    {
     "name": "stderr",
     "output_type": "stream",
     "text": [
      "Epoch 21 Training:   0%|                                                                      | 0/3525 [00:00<?, ?it/s]C:\\Users\\q\\AppData\\Local\\Temp\\ipykernel_17128\\4199959549.py:40: FutureWarning: `torch.cuda.amp.autocast(args...)` is deprecated. Please use `torch.amp.autocast('cuda', args...)` instead.\n",
      "  with torch.cuda.amp.autocast():\n",
      "                                                                                                                       \r"
     ]
    },
    {
     "name": "stdout",
     "output_type": "stream",
     "text": [
      "Epoch 21/100 - Train Loss: 0.1116 | Train MSE: 1.7901\n"
     ]
    },
    {
     "name": "stderr",
     "output_type": "stream",
     "text": [
      "                                                                                                                       \r"
     ]
    },
    {
     "name": "stdout",
     "output_type": "stream",
     "text": [
      "Epoch 21/100 - Val Loss: 0.0912 | Val MSE: 1.7093\n",
      "\n",
      "Sample Predictions (Real MOS vs Predicted MOS):\n",
      "Example 1: Real MOS = 4, Predicted MOS = 5\n",
      "Example 2: Real MOS = 4, Predicted MOS = 5\n",
      "Example 3: Real MOS = 4, Predicted MOS = 5\n",
      "Example 4: Real MOS = 3, Predicted MOS = 5\n",
      "Example 5: Real MOS = 3, Predicted MOS = 5\n"
     ]
    },
    {
     "name": "stderr",
     "output_type": "stream",
     "text": [
      "Epoch 22 Training:   0%|                                                                      | 0/3525 [00:00<?, ?it/s]C:\\Users\\q\\AppData\\Local\\Temp\\ipykernel_17128\\4199959549.py:40: FutureWarning: `torch.cuda.amp.autocast(args...)` is deprecated. Please use `torch.amp.autocast('cuda', args...)` instead.\n",
      "  with torch.cuda.amp.autocast():\n",
      "                                                                                                                       \r"
     ]
    },
    {
     "name": "stdout",
     "output_type": "stream",
     "text": [
      "Epoch 22/100 - Train Loss: 0.1088 | Train MSE: 1.7230\n"
     ]
    },
    {
     "name": "stderr",
     "output_type": "stream",
     "text": [
      "                                                                                                                       \r"
     ]
    },
    {
     "name": "stdout",
     "output_type": "stream",
     "text": [
      "Epoch 22/100 - Val Loss: 0.0892 | Val MSE: 1.7393\n",
      "\n",
      "Sample Predictions (Real MOS vs Predicted MOS):\n",
      "Example 1: Real MOS = 4, Predicted MOS = 5\n",
      "Example 2: Real MOS = 4, Predicted MOS = 4\n",
      "Example 3: Real MOS = 4, Predicted MOS = 5\n",
      "Example 4: Real MOS = 3, Predicted MOS = 5\n",
      "Example 5: Real MOS = 3, Predicted MOS = 5\n"
     ]
    },
    {
     "name": "stderr",
     "output_type": "stream",
     "text": [
      "Epoch 23 Training:   0%|                                                                      | 0/3525 [00:00<?, ?it/s]C:\\Users\\q\\AppData\\Local\\Temp\\ipykernel_17128\\4199959549.py:40: FutureWarning: `torch.cuda.amp.autocast(args...)` is deprecated. Please use `torch.amp.autocast('cuda', args...)` instead.\n",
      "  with torch.cuda.amp.autocast():\n",
      "                                                                                                                       \r"
     ]
    },
    {
     "name": "stdout",
     "output_type": "stream",
     "text": [
      "Epoch 23/100 - Train Loss: 0.1058 | Train MSE: 1.6957\n"
     ]
    },
    {
     "name": "stderr",
     "output_type": "stream",
     "text": [
      "                                                                                                                       \r"
     ]
    },
    {
     "name": "stdout",
     "output_type": "stream",
     "text": [
      "Epoch 23/100 - Val Loss: 0.0885 | Val MSE: 1.6217\n",
      "\n",
      "Sample Predictions (Real MOS vs Predicted MOS):\n",
      "Example 1: Real MOS = 4, Predicted MOS = 5\n",
      "Example 2: Real MOS = 4, Predicted MOS = 5\n",
      "Example 3: Real MOS = 4, Predicted MOS = 3\n",
      "Example 4: Real MOS = 3, Predicted MOS = 5\n",
      "Example 5: Real MOS = 3, Predicted MOS = 5\n"
     ]
    },
    {
     "name": "stderr",
     "output_type": "stream",
     "text": [
      "Epoch 24 Training:   0%|                                                                      | 0/3525 [00:00<?, ?it/s]C:\\Users\\q\\AppData\\Local\\Temp\\ipykernel_17128\\4199959549.py:40: FutureWarning: `torch.cuda.amp.autocast(args...)` is deprecated. Please use `torch.amp.autocast('cuda', args...)` instead.\n",
      "  with torch.cuda.amp.autocast():\n",
      "                                                                                                                       \r"
     ]
    },
    {
     "name": "stdout",
     "output_type": "stream",
     "text": [
      "Epoch 24/100 - Train Loss: 0.1033 | Train MSE: 1.6851\n"
     ]
    },
    {
     "name": "stderr",
     "output_type": "stream",
     "text": [
      "                                                                                                                       \r"
     ]
    },
    {
     "name": "stdout",
     "output_type": "stream",
     "text": [
      "Epoch 24/100 - Val Loss: 0.0879 | Val MSE: 1.6333\n",
      "\n",
      "Sample Predictions (Real MOS vs Predicted MOS):\n",
      "Example 1: Real MOS = 4, Predicted MOS = 5\n",
      "Example 2: Real MOS = 4, Predicted MOS = 4\n",
      "Example 3: Real MOS = 4, Predicted MOS = 5\n",
      "Example 4: Real MOS = 3, Predicted MOS = 5\n",
      "Example 5: Real MOS = 3, Predicted MOS = 5\n"
     ]
    },
    {
     "name": "stderr",
     "output_type": "stream",
     "text": [
      "Epoch 25 Training:   0%|                                                                      | 0/3525 [00:00<?, ?it/s]C:\\Users\\q\\AppData\\Local\\Temp\\ipykernel_17128\\4199959549.py:40: FutureWarning: `torch.cuda.amp.autocast(args...)` is deprecated. Please use `torch.amp.autocast('cuda', args...)` instead.\n",
      "  with torch.cuda.amp.autocast():\n",
      "                                                                                                                       \r"
     ]
    },
    {
     "name": "stdout",
     "output_type": "stream",
     "text": [
      "Epoch 25/100 - Train Loss: 0.1037 | Train MSE: 1.7137\n"
     ]
    },
    {
     "name": "stderr",
     "output_type": "stream",
     "text": [
      "                                                                                                                       \r"
     ]
    },
    {
     "name": "stdout",
     "output_type": "stream",
     "text": [
      "Epoch 25/100 - Val Loss: 0.0876 | Val MSE: 1.6160\n",
      "\n",
      "Sample Predictions (Real MOS vs Predicted MOS):\n",
      "Example 1: Real MOS = 4, Predicted MOS = 5\n",
      "Example 2: Real MOS = 4, Predicted MOS = 4\n",
      "Example 3: Real MOS = 4, Predicted MOS = 5\n",
      "Example 4: Real MOS = 3, Predicted MOS = 5\n",
      "Example 5: Real MOS = 3, Predicted MOS = 5\n"
     ]
    },
    {
     "name": "stderr",
     "output_type": "stream",
     "text": [
      "Epoch 26 Training:   0%|                                                                      | 0/3525 [00:00<?, ?it/s]C:\\Users\\q\\AppData\\Local\\Temp\\ipykernel_17128\\4199959549.py:40: FutureWarning: `torch.cuda.amp.autocast(args...)` is deprecated. Please use `torch.amp.autocast('cuda', args...)` instead.\n",
      "  with torch.cuda.amp.autocast():\n",
      "                                                                                                                       \r"
     ]
    },
    {
     "name": "stdout",
     "output_type": "stream",
     "text": [
      "Epoch 26/100 - Train Loss: 0.1013 | Train MSE: 1.6465\n"
     ]
    },
    {
     "name": "stderr",
     "output_type": "stream",
     "text": [
      "                                                                                                                       \r"
     ]
    },
    {
     "name": "stdout",
     "output_type": "stream",
     "text": [
      "Epoch 26/100 - Val Loss: 0.0898 | Val MSE: 1.6173\n",
      "\n",
      "Sample Predictions (Real MOS vs Predicted MOS):\n",
      "Example 1: Real MOS = 4, Predicted MOS = 4\n",
      "Example 2: Real MOS = 4, Predicted MOS = 5\n",
      "Example 3: Real MOS = 4, Predicted MOS = 5\n",
      "Example 4: Real MOS = 3, Predicted MOS = 5\n",
      "Example 5: Real MOS = 3, Predicted MOS = 5\n"
     ]
    },
    {
     "name": "stderr",
     "output_type": "stream",
     "text": [
      "Epoch 27 Training:   0%|                                                                      | 0/3525 [00:00<?, ?it/s]C:\\Users\\q\\AppData\\Local\\Temp\\ipykernel_17128\\4199959549.py:40: FutureWarning: `torch.cuda.amp.autocast(args...)` is deprecated. Please use `torch.amp.autocast('cuda', args...)` instead.\n",
      "  with torch.cuda.amp.autocast():\n",
      "                                                                                                                       \r"
     ]
    },
    {
     "name": "stdout",
     "output_type": "stream",
     "text": [
      "Epoch 27/100 - Train Loss: 0.0992 | Train MSE: 1.6601\n"
     ]
    },
    {
     "name": "stderr",
     "output_type": "stream",
     "text": [
      "                                                                                                                       \r"
     ]
    },
    {
     "name": "stdout",
     "output_type": "stream",
     "text": [
      "Epoch 27/100 - Val Loss: 0.0870 | Val MSE: 1.5720\n",
      "\n",
      "Sample Predictions (Real MOS vs Predicted MOS):\n",
      "Example 1: Real MOS = 4, Predicted MOS = 5\n",
      "Example 2: Real MOS = 4, Predicted MOS = 5\n",
      "Example 3: Real MOS = 4, Predicted MOS = 5\n",
      "Example 4: Real MOS = 3, Predicted MOS = 5\n",
      "Example 5: Real MOS = 3, Predicted MOS = 5\n"
     ]
    },
    {
     "name": "stderr",
     "output_type": "stream",
     "text": [
      "Epoch 28 Training:   0%|                                                                      | 0/3525 [00:00<?, ?it/s]C:\\Users\\q\\AppData\\Local\\Temp\\ipykernel_17128\\4199959549.py:40: FutureWarning: `torch.cuda.amp.autocast(args...)` is deprecated. Please use `torch.amp.autocast('cuda', args...)` instead.\n",
      "  with torch.cuda.amp.autocast():\n",
      "                                                                                                                       \r"
     ]
    },
    {
     "name": "stdout",
     "output_type": "stream",
     "text": [
      "Epoch 28/100 - Train Loss: 0.0977 | Train MSE: 1.6106\n"
     ]
    },
    {
     "name": "stderr",
     "output_type": "stream",
     "text": [
      "                                                                                                                       \r"
     ]
    },
    {
     "name": "stdout",
     "output_type": "stream",
     "text": [
      "Epoch 28/100 - Val Loss: 0.0884 | Val MSE: 1.6820\n",
      "\n",
      "Sample Predictions (Real MOS vs Predicted MOS):\n",
      "Example 1: Real MOS = 4, Predicted MOS = 5\n",
      "Example 2: Real MOS = 4, Predicted MOS = 5\n",
      "Example 3: Real MOS = 4, Predicted MOS = 5\n",
      "Example 4: Real MOS = 3, Predicted MOS = 5\n",
      "Example 5: Real MOS = 3, Predicted MOS = 5\n"
     ]
    },
    {
     "name": "stderr",
     "output_type": "stream",
     "text": [
      "Epoch 29 Training:   0%|                                                                      | 0/3525 [00:00<?, ?it/s]C:\\Users\\q\\AppData\\Local\\Temp\\ipykernel_17128\\4199959549.py:40: FutureWarning: `torch.cuda.amp.autocast(args...)` is deprecated. Please use `torch.amp.autocast('cuda', args...)` instead.\n",
      "  with torch.cuda.amp.autocast():\n",
      "                                                                                                                       \r"
     ]
    },
    {
     "name": "stdout",
     "output_type": "stream",
     "text": [
      "Epoch 29/100 - Train Loss: 0.0985 | Train MSE: 1.6733\n"
     ]
    },
    {
     "name": "stderr",
     "output_type": "stream",
     "text": [
      "                                                                                                                       \r"
     ]
    },
    {
     "name": "stdout",
     "output_type": "stream",
     "text": [
      "Epoch 29/100 - Val Loss: 0.0871 | Val MSE: 1.4730\n",
      "\n",
      "Sample Predictions (Real MOS vs Predicted MOS):\n",
      "Example 1: Real MOS = 4, Predicted MOS = 5\n",
      "Example 2: Real MOS = 4, Predicted MOS = 5\n",
      "Example 3: Real MOS = 4, Predicted MOS = 3\n",
      "Example 4: Real MOS = 3, Predicted MOS = 5\n",
      "Example 5: Real MOS = 3, Predicted MOS = 5\n"
     ]
    },
    {
     "name": "stderr",
     "output_type": "stream",
     "text": [
      "Epoch 30 Training:   0%|                                                                      | 0/3525 [00:00<?, ?it/s]C:\\Users\\q\\AppData\\Local\\Temp\\ipykernel_17128\\4199959549.py:40: FutureWarning: `torch.cuda.amp.autocast(args...)` is deprecated. Please use `torch.amp.autocast('cuda', args...)` instead.\n",
      "  with torch.cuda.amp.autocast():\n",
      "                                                                                                                       \r"
     ]
    },
    {
     "name": "stdout",
     "output_type": "stream",
     "text": [
      "Epoch 30/100 - Train Loss: 0.0980 | Train MSE: 1.6479\n"
     ]
    },
    {
     "name": "stderr",
     "output_type": "stream",
     "text": [
      "                                                                                                                       \r"
     ]
    },
    {
     "name": "stdout",
     "output_type": "stream",
     "text": [
      "Epoch 30/100 - Val Loss: 0.0883 | Val MSE: 1.6010\n",
      "\n",
      "Sample Predictions (Real MOS vs Predicted MOS):\n",
      "Example 1: Real MOS = 4, Predicted MOS = 5\n",
      "Example 2: Real MOS = 4, Predicted MOS = 5\n",
      "Example 3: Real MOS = 4, Predicted MOS = 5\n",
      "Example 4: Real MOS = 3, Predicted MOS = 5\n",
      "Example 5: Real MOS = 3, Predicted MOS = 5\n"
     ]
    },
    {
     "name": "stderr",
     "output_type": "stream",
     "text": [
      "Epoch 31 Training:   0%|                                                                      | 0/3525 [00:00<?, ?it/s]C:\\Users\\q\\AppData\\Local\\Temp\\ipykernel_17128\\4199959549.py:40: FutureWarning: `torch.cuda.amp.autocast(args...)` is deprecated. Please use `torch.amp.autocast('cuda', args...)` instead.\n",
      "  with torch.cuda.amp.autocast():\n",
      "                                                                                                                       \r"
     ]
    },
    {
     "name": "stdout",
     "output_type": "stream",
     "text": [
      "Epoch 31/100 - Train Loss: 0.0966 | Train MSE: 1.5977\n"
     ]
    },
    {
     "name": "stderr",
     "output_type": "stream",
     "text": [
      "                                                                                                                       \r"
     ]
    },
    {
     "name": "stdout",
     "output_type": "stream",
     "text": [
      "Epoch 31/100 - Val Loss: 0.0882 | Val MSE: 1.6807\n",
      "\n",
      "Sample Predictions (Real MOS vs Predicted MOS):\n",
      "Example 1: Real MOS = 4, Predicted MOS = 5\n",
      "Example 2: Real MOS = 4, Predicted MOS = 5\n",
      "Example 3: Real MOS = 4, Predicted MOS = 5\n",
      "Example 4: Real MOS = 3, Predicted MOS = 5\n",
      "Example 5: Real MOS = 3, Predicted MOS = 5\n"
     ]
    },
    {
     "name": "stderr",
     "output_type": "stream",
     "text": [
      "Epoch 32 Training:   0%|                                                                      | 0/3525 [00:00<?, ?it/s]C:\\Users\\q\\AppData\\Local\\Temp\\ipykernel_17128\\4199959549.py:40: FutureWarning: `torch.cuda.amp.autocast(args...)` is deprecated. Please use `torch.amp.autocast('cuda', args...)` instead.\n",
      "  with torch.cuda.amp.autocast():\n",
      "                                                                                                                       \r"
     ]
    },
    {
     "name": "stdout",
     "output_type": "stream",
     "text": [
      "Epoch 32/100 - Train Loss: 0.0953 | Train MSE: 1.5915\n"
     ]
    },
    {
     "name": "stderr",
     "output_type": "stream",
     "text": [
      "                                                                                                                       \r"
     ]
    },
    {
     "name": "stdout",
     "output_type": "stream",
     "text": [
      "Epoch 32/100 - Val Loss: 0.0862 | Val MSE: 1.4927\n",
      "\n",
      "Sample Predictions (Real MOS vs Predicted MOS):\n",
      "Example 1: Real MOS = 4, Predicted MOS = 4\n",
      "Example 2: Real MOS = 4, Predicted MOS = 4\n",
      "Example 3: Real MOS = 4, Predicted MOS = 5\n",
      "Example 4: Real MOS = 3, Predicted MOS = 5\n",
      "Example 5: Real MOS = 3, Predicted MOS = 5\n"
     ]
    },
    {
     "name": "stderr",
     "output_type": "stream",
     "text": [
      "Epoch 33 Training:   0%|                                                                      | 0/3525 [00:00<?, ?it/s]C:\\Users\\q\\AppData\\Local\\Temp\\ipykernel_17128\\4199959549.py:40: FutureWarning: `torch.cuda.amp.autocast(args...)` is deprecated. Please use `torch.amp.autocast('cuda', args...)` instead.\n",
      "  with torch.cuda.amp.autocast():\n",
      "                                                                                                                       \r"
     ]
    },
    {
     "name": "stdout",
     "output_type": "stream",
     "text": [
      "Epoch 33/100 - Train Loss: 0.0946 | Train MSE: 1.5717\n"
     ]
    },
    {
     "name": "stderr",
     "output_type": "stream",
     "text": [
      "                                                                                                                       \r"
     ]
    },
    {
     "name": "stdout",
     "output_type": "stream",
     "text": [
      "Epoch 33/100 - Val Loss: 0.0839 | Val MSE: 1.3700\n",
      "\n",
      "Sample Predictions (Real MOS vs Predicted MOS):\n",
      "Example 1: Real MOS = 4, Predicted MOS = 5\n",
      "Example 2: Real MOS = 4, Predicted MOS = 5\n",
      "Example 3: Real MOS = 4, Predicted MOS = 5\n",
      "Example 4: Real MOS = 3, Predicted MOS = 5\n",
      "Example 5: Real MOS = 3, Predicted MOS = 5\n"
     ]
    },
    {
     "name": "stderr",
     "output_type": "stream",
     "text": [
      "Epoch 34 Training:   0%|                                                                      | 0/3525 [00:00<?, ?it/s]C:\\Users\\q\\AppData\\Local\\Temp\\ipykernel_17128\\4199959549.py:40: FutureWarning: `torch.cuda.amp.autocast(args...)` is deprecated. Please use `torch.amp.autocast('cuda', args...)` instead.\n",
      "  with torch.cuda.amp.autocast():\n",
      "                                                                                                                       \r"
     ]
    },
    {
     "name": "stdout",
     "output_type": "stream",
     "text": [
      "Epoch 34/100 - Train Loss: 0.0936 | Train MSE: 1.5367\n"
     ]
    },
    {
     "name": "stderr",
     "output_type": "stream",
     "text": [
      "                                                                                                                       \r"
     ]
    },
    {
     "name": "stdout",
     "output_type": "stream",
     "text": [
      "Epoch 34/100 - Val Loss: 0.0881 | Val MSE: 1.6027\n",
      "\n",
      "Sample Predictions (Real MOS vs Predicted MOS):\n",
      "Example 1: Real MOS = 4, Predicted MOS = 5\n",
      "Example 2: Real MOS = 4, Predicted MOS = 5\n",
      "Example 3: Real MOS = 4, Predicted MOS = 5\n",
      "Example 4: Real MOS = 3, Predicted MOS = 5\n",
      "Example 5: Real MOS = 3, Predicted MOS = 5\n"
     ]
    },
    {
     "name": "stderr",
     "output_type": "stream",
     "text": [
      "Epoch 35 Training:   0%|                                                                      | 0/3525 [00:00<?, ?it/s]C:\\Users\\q\\AppData\\Local\\Temp\\ipykernel_17128\\4199959549.py:40: FutureWarning: `torch.cuda.amp.autocast(args...)` is deprecated. Please use `torch.amp.autocast('cuda', args...)` instead.\n",
      "  with torch.cuda.amp.autocast():\n",
      "                                                                                                                       \r"
     ]
    },
    {
     "name": "stdout",
     "output_type": "stream",
     "text": [
      "Epoch 35/100 - Train Loss: 0.0924 | Train MSE: 1.5053\n"
     ]
    },
    {
     "name": "stderr",
     "output_type": "stream",
     "text": [
      "                                                                                                                       \r"
     ]
    },
    {
     "name": "stdout",
     "output_type": "stream",
     "text": [
      "Epoch 35/100 - Val Loss: 0.0868 | Val MSE: 1.4833\n",
      "\n",
      "Sample Predictions (Real MOS vs Predicted MOS):\n",
      "Example 1: Real MOS = 4, Predicted MOS = 5\n",
      "Example 2: Real MOS = 4, Predicted MOS = 4\n",
      "Example 3: Real MOS = 4, Predicted MOS = 4\n",
      "Example 4: Real MOS = 3, Predicted MOS = 5\n",
      "Example 5: Real MOS = 3, Predicted MOS = 2\n"
     ]
    },
    {
     "name": "stderr",
     "output_type": "stream",
     "text": [
      "Epoch 36 Training:   0%|                                                                      | 0/3525 [00:00<?, ?it/s]C:\\Users\\q\\AppData\\Local\\Temp\\ipykernel_17128\\4199959549.py:40: FutureWarning: `torch.cuda.amp.autocast(args...)` is deprecated. Please use `torch.amp.autocast('cuda', args...)` instead.\n",
      "  with torch.cuda.amp.autocast():\n",
      "                                                                                                                       \r"
     ]
    },
    {
     "name": "stdout",
     "output_type": "stream",
     "text": [
      "Epoch 36/100 - Train Loss: 0.0934 | Train MSE: 1.5111\n"
     ]
    },
    {
     "name": "stderr",
     "output_type": "stream",
     "text": [
      "                                                                                                                       \r"
     ]
    },
    {
     "name": "stdout",
     "output_type": "stream",
     "text": [
      "Epoch 36/100 - Val Loss: 0.0867 | Val MSE: 1.3263\n",
      "\n",
      "Sample Predictions (Real MOS vs Predicted MOS):\n",
      "Example 1: Real MOS = 4, Predicted MOS = 4\n",
      "Example 2: Real MOS = 4, Predicted MOS = 5\n",
      "Example 3: Real MOS = 4, Predicted MOS = 3\n",
      "Example 4: Real MOS = 3, Predicted MOS = 5\n",
      "Example 5: Real MOS = 3, Predicted MOS = 2\n"
     ]
    },
    {
     "name": "stderr",
     "output_type": "stream",
     "text": [
      "Epoch 37 Training:   0%|                                                                      | 0/3525 [00:00<?, ?it/s]C:\\Users\\q\\AppData\\Local\\Temp\\ipykernel_17128\\4199959549.py:40: FutureWarning: `torch.cuda.amp.autocast(args...)` is deprecated. Please use `torch.amp.autocast('cuda', args...)` instead.\n",
      "  with torch.cuda.amp.autocast():\n",
      "                                                                                                                       \r"
     ]
    },
    {
     "name": "stdout",
     "output_type": "stream",
     "text": [
      "Epoch 37/100 - Train Loss: 0.0927 | Train MSE: 1.4970\n"
     ]
    },
    {
     "name": "stderr",
     "output_type": "stream",
     "text": [
      "                                                                                                                       \r"
     ]
    },
    {
     "name": "stdout",
     "output_type": "stream",
     "text": [
      "Epoch 37/100 - Val Loss: 0.0825 | Val MSE: 1.1817\n",
      "\n",
      "Sample Predictions (Real MOS vs Predicted MOS):\n",
      "Example 1: Real MOS = 4, Predicted MOS = 4\n",
      "Example 2: Real MOS = 4, Predicted MOS = 4\n",
      "Example 3: Real MOS = 4, Predicted MOS = 3\n",
      "Example 4: Real MOS = 3, Predicted MOS = 5\n",
      "Example 5: Real MOS = 3, Predicted MOS = 5\n"
     ]
    },
    {
     "name": "stderr",
     "output_type": "stream",
     "text": [
      "Epoch 38 Training:   0%|                                                                      | 0/3525 [00:00<?, ?it/s]C:\\Users\\q\\AppData\\Local\\Temp\\ipykernel_17128\\4199959549.py:40: FutureWarning: `torch.cuda.amp.autocast(args...)` is deprecated. Please use `torch.amp.autocast('cuda', args...)` instead.\n",
      "  with torch.cuda.amp.autocast():\n",
      "                                                                                                                       \r"
     ]
    },
    {
     "name": "stdout",
     "output_type": "stream",
     "text": [
      "Epoch 38/100 - Train Loss: 0.0918 | Train MSE: 1.4975\n"
     ]
    },
    {
     "name": "stderr",
     "output_type": "stream",
     "text": [
      "                                                                                                                       \r"
     ]
    },
    {
     "name": "stdout",
     "output_type": "stream",
     "text": [
      "Epoch 38/100 - Val Loss: 0.0829 | Val MSE: 1.2747\n",
      "\n",
      "Sample Predictions (Real MOS vs Predicted MOS):\n",
      "Example 1: Real MOS = 4, Predicted MOS = 5\n",
      "Example 2: Real MOS = 4, Predicted MOS = 4\n",
      "Example 3: Real MOS = 4, Predicted MOS = 3\n",
      "Example 4: Real MOS = 3, Predicted MOS = 5\n",
      "Example 5: Real MOS = 3, Predicted MOS = 2\n"
     ]
    },
    {
     "name": "stderr",
     "output_type": "stream",
     "text": [
      "Epoch 39 Training:   0%|                                                                      | 0/3525 [00:00<?, ?it/s]C:\\Users\\q\\AppData\\Local\\Temp\\ipykernel_17128\\4199959549.py:40: FutureWarning: `torch.cuda.amp.autocast(args...)` is deprecated. Please use `torch.amp.autocast('cuda', args...)` instead.\n",
      "  with torch.cuda.amp.autocast():\n",
      "                                                                                                                       \r"
     ]
    },
    {
     "name": "stdout",
     "output_type": "stream",
     "text": [
      "Epoch 39/100 - Train Loss: 0.0908 | Train MSE: 1.4304\n"
     ]
    },
    {
     "name": "stderr",
     "output_type": "stream",
     "text": [
      "                                                                                                                       \r"
     ]
    },
    {
     "name": "stdout",
     "output_type": "stream",
     "text": [
      "Epoch 39/100 - Val Loss: 0.0831 | Val MSE: 1.3257\n",
      "\n",
      "Sample Predictions (Real MOS vs Predicted MOS):\n",
      "Example 1: Real MOS = 4, Predicted MOS = 5\n",
      "Example 2: Real MOS = 4, Predicted MOS = 5\n",
      "Example 3: Real MOS = 4, Predicted MOS = 5\n",
      "Example 4: Real MOS = 3, Predicted MOS = 5\n",
      "Example 5: Real MOS = 3, Predicted MOS = 5\n"
     ]
    },
    {
     "name": "stderr",
     "output_type": "stream",
     "text": [
      "Epoch 40 Training:   0%|                                                                      | 0/3525 [00:00<?, ?it/s]C:\\Users\\q\\AppData\\Local\\Temp\\ipykernel_17128\\4199959549.py:40: FutureWarning: `torch.cuda.amp.autocast(args...)` is deprecated. Please use `torch.amp.autocast('cuda', args...)` instead.\n",
      "  with torch.cuda.amp.autocast():\n",
      "                                                                                                                       \r"
     ]
    },
    {
     "name": "stdout",
     "output_type": "stream",
     "text": [
      "Epoch 40/100 - Train Loss: 0.0900 | Train MSE: 1.4534\n"
     ]
    },
    {
     "name": "stderr",
     "output_type": "stream",
     "text": [
      "                                                                                                                       \r"
     ]
    },
    {
     "name": "stdout",
     "output_type": "stream",
     "text": [
      "Epoch 40/100 - Val Loss: 0.0827 | Val MSE: 1.2590\n",
      "\n",
      "Sample Predictions (Real MOS vs Predicted MOS):\n",
      "Example 1: Real MOS = 4, Predicted MOS = 5\n",
      "Example 2: Real MOS = 4, Predicted MOS = 4\n",
      "Example 3: Real MOS = 4, Predicted MOS = 5\n",
      "Example 4: Real MOS = 3, Predicted MOS = 5\n",
      "Example 5: Real MOS = 3, Predicted MOS = 2\n"
     ]
    },
    {
     "name": "stderr",
     "output_type": "stream",
     "text": [
      "Epoch 41 Training:   0%|                                                                      | 0/3525 [00:00<?, ?it/s]C:\\Users\\q\\AppData\\Local\\Temp\\ipykernel_17128\\4199959549.py:40: FutureWarning: `torch.cuda.amp.autocast(args...)` is deprecated. Please use `torch.amp.autocast('cuda', args...)` instead.\n",
      "  with torch.cuda.amp.autocast():\n",
      "                                                                                                                       \r"
     ]
    },
    {
     "name": "stdout",
     "output_type": "stream",
     "text": [
      "Epoch 41/100 - Train Loss: 0.0899 | Train MSE: 1.4230\n"
     ]
    },
    {
     "name": "stderr",
     "output_type": "stream",
     "text": [
      "                                                                                                                       \r"
     ]
    },
    {
     "name": "stdout",
     "output_type": "stream",
     "text": [
      "Epoch 41/100 - Val Loss: 0.0832 | Val MSE: 1.3103\n",
      "\n",
      "Sample Predictions (Real MOS vs Predicted MOS):\n",
      "Example 1: Real MOS = 4, Predicted MOS = 4\n",
      "Example 2: Real MOS = 4, Predicted MOS = 4\n",
      "Example 3: Real MOS = 4, Predicted MOS = 5\n",
      "Example 4: Real MOS = 3, Predicted MOS = 5\n",
      "Example 5: Real MOS = 3, Predicted MOS = 2\n"
     ]
    },
    {
     "name": "stderr",
     "output_type": "stream",
     "text": [
      "Epoch 42 Training:   0%|                                                                      | 0/3525 [00:00<?, ?it/s]C:\\Users\\q\\AppData\\Local\\Temp\\ipykernel_17128\\4199959549.py:40: FutureWarning: `torch.cuda.amp.autocast(args...)` is deprecated. Please use `torch.amp.autocast('cuda', args...)` instead.\n",
      "  with torch.cuda.amp.autocast():\n",
      "                                                                                                                       \r"
     ]
    },
    {
     "name": "stdout",
     "output_type": "stream",
     "text": [
      "Epoch 42/100 - Train Loss: 0.0891 | Train MSE: 1.3957\n"
     ]
    },
    {
     "name": "stderr",
     "output_type": "stream",
     "text": [
      "                                                                                                                       \r"
     ]
    },
    {
     "name": "stdout",
     "output_type": "stream",
     "text": [
      "Epoch 42/100 - Val Loss: 0.0795 | Val MSE: 1.0580\n",
      "\n",
      "Sample Predictions (Real MOS vs Predicted MOS):\n",
      "Example 1: Real MOS = 4, Predicted MOS = 4\n",
      "Example 2: Real MOS = 4, Predicted MOS = 4\n",
      "Example 3: Real MOS = 4, Predicted MOS = 3\n",
      "Example 4: Real MOS = 3, Predicted MOS = 5\n",
      "Example 5: Real MOS = 3, Predicted MOS = 2\n"
     ]
    },
    {
     "name": "stderr",
     "output_type": "stream",
     "text": [
      "Epoch 43 Training:   0%|                                                                      | 0/3525 [00:00<?, ?it/s]C:\\Users\\q\\AppData\\Local\\Temp\\ipykernel_17128\\4199959549.py:40: FutureWarning: `torch.cuda.amp.autocast(args...)` is deprecated. Please use `torch.amp.autocast('cuda', args...)` instead.\n",
      "  with torch.cuda.amp.autocast():\n",
      "                                                                                                                       \r"
     ]
    },
    {
     "name": "stdout",
     "output_type": "stream",
     "text": [
      "Epoch 43/100 - Train Loss: 0.0889 | Train MSE: 1.4160\n"
     ]
    },
    {
     "name": "stderr",
     "output_type": "stream",
     "text": [
      "                                                                                                                       \r"
     ]
    },
    {
     "name": "stdout",
     "output_type": "stream",
     "text": [
      "Epoch 43/100 - Val Loss: 0.0781 | Val MSE: 1.0553\n",
      "\n",
      "Sample Predictions (Real MOS vs Predicted MOS):\n",
      "Example 1: Real MOS = 4, Predicted MOS = 4\n",
      "Example 2: Real MOS = 4, Predicted MOS = 4\n",
      "Example 3: Real MOS = 4, Predicted MOS = 3\n",
      "Example 4: Real MOS = 3, Predicted MOS = 5\n",
      "Example 5: Real MOS = 3, Predicted MOS = 2\n"
     ]
    },
    {
     "name": "stderr",
     "output_type": "stream",
     "text": [
      "Epoch 44 Training:   0%|                                                                      | 0/3525 [00:00<?, ?it/s]C:\\Users\\q\\AppData\\Local\\Temp\\ipykernel_17128\\4199959549.py:40: FutureWarning: `torch.cuda.amp.autocast(args...)` is deprecated. Please use `torch.amp.autocast('cuda', args...)` instead.\n",
      "  with torch.cuda.amp.autocast():\n",
      "                                                                                                                       \r"
     ]
    },
    {
     "name": "stdout",
     "output_type": "stream",
     "text": [
      "Epoch 44/100 - Train Loss: 0.0865 | Train MSE: 1.3069\n"
     ]
    },
    {
     "name": "stderr",
     "output_type": "stream",
     "text": [
      "                                                                                                                       \r"
     ]
    },
    {
     "name": "stdout",
     "output_type": "stream",
     "text": [
      "Epoch 44/100 - Val Loss: 0.0835 | Val MSE: 1.1353\n",
      "\n",
      "Sample Predictions (Real MOS vs Predicted MOS):\n",
      "Example 1: Real MOS = 4, Predicted MOS = 4\n",
      "Example 2: Real MOS = 4, Predicted MOS = 4\n",
      "Example 3: Real MOS = 4, Predicted MOS = 3\n",
      "Example 4: Real MOS = 3, Predicted MOS = 2\n",
      "Example 5: Real MOS = 3, Predicted MOS = 2\n"
     ]
    },
    {
     "name": "stderr",
     "output_type": "stream",
     "text": [
      "Epoch 45 Training:   0%|                                                                      | 0/3525 [00:00<?, ?it/s]C:\\Users\\q\\AppData\\Local\\Temp\\ipykernel_17128\\4199959549.py:40: FutureWarning: `torch.cuda.amp.autocast(args...)` is deprecated. Please use `torch.amp.autocast('cuda', args...)` instead.\n",
      "  with torch.cuda.amp.autocast():\n",
      "                                                                                                                       \r"
     ]
    },
    {
     "name": "stdout",
     "output_type": "stream",
     "text": [
      "Epoch 45/100 - Train Loss: 0.0864 | Train MSE: 1.3301\n"
     ]
    },
    {
     "name": "stderr",
     "output_type": "stream",
     "text": [
      "                                                                                                                       \r"
     ]
    },
    {
     "name": "stdout",
     "output_type": "stream",
     "text": [
      "Epoch 45/100 - Val Loss: 0.0779 | Val MSE: 1.0447\n",
      "\n",
      "Sample Predictions (Real MOS vs Predicted MOS):\n",
      "Example 1: Real MOS = 4, Predicted MOS = 4\n",
      "Example 2: Real MOS = 4, Predicted MOS = 4\n",
      "Example 3: Real MOS = 4, Predicted MOS = 3\n",
      "Example 4: Real MOS = 3, Predicted MOS = 5\n",
      "Example 5: Real MOS = 3, Predicted MOS = 2\n"
     ]
    },
    {
     "name": "stderr",
     "output_type": "stream",
     "text": [
      "Epoch 46 Training:   0%|                                                                      | 0/3525 [00:00<?, ?it/s]C:\\Users\\q\\AppData\\Local\\Temp\\ipykernel_17128\\4199959549.py:40: FutureWarning: `torch.cuda.amp.autocast(args...)` is deprecated. Please use `torch.amp.autocast('cuda', args...)` instead.\n",
      "  with torch.cuda.amp.autocast():\n",
      "                                                                                                                       \r"
     ]
    },
    {
     "name": "stdout",
     "output_type": "stream",
     "text": [
      "Epoch 46/100 - Train Loss: 0.0860 | Train MSE: 1.3055\n"
     ]
    },
    {
     "name": "stderr",
     "output_type": "stream",
     "text": [
      "                                                                                                                       \r"
     ]
    },
    {
     "name": "stdout",
     "output_type": "stream",
     "text": [
      "Epoch 46/100 - Val Loss: 0.0778 | Val MSE: 1.0337\n",
      "\n",
      "Sample Predictions (Real MOS vs Predicted MOS):\n",
      "Example 1: Real MOS = 4, Predicted MOS = 4\n",
      "Example 2: Real MOS = 4, Predicted MOS = 4\n",
      "Example 3: Real MOS = 4, Predicted MOS = 5\n",
      "Example 4: Real MOS = 3, Predicted MOS = 2\n",
      "Example 5: Real MOS = 3, Predicted MOS = 2\n"
     ]
    },
    {
     "name": "stderr",
     "output_type": "stream",
     "text": [
      "Epoch 47 Training:   0%|                                                                      | 0/3525 [00:00<?, ?it/s]C:\\Users\\q\\AppData\\Local\\Temp\\ipykernel_17128\\4199959549.py:40: FutureWarning: `torch.cuda.amp.autocast(args...)` is deprecated. Please use `torch.amp.autocast('cuda', args...)` instead.\n",
      "  with torch.cuda.amp.autocast():\n",
      "                                                                                                                       \r"
     ]
    },
    {
     "name": "stdout",
     "output_type": "stream",
     "text": [
      "Epoch 47/100 - Train Loss: 0.0854 | Train MSE: 1.3001\n"
     ]
    },
    {
     "name": "stderr",
     "output_type": "stream",
     "text": [
      "                                                                                                                       \r"
     ]
    },
    {
     "name": "stdout",
     "output_type": "stream",
     "text": [
      "Epoch 47/100 - Val Loss: 0.0795 | Val MSE: 0.9857\n",
      "\n",
      "Sample Predictions (Real MOS vs Predicted MOS):\n",
      "Example 1: Real MOS = 4, Predicted MOS = 4\n",
      "Example 2: Real MOS = 4, Predicted MOS = 4\n",
      "Example 3: Real MOS = 4, Predicted MOS = 3\n",
      "Example 4: Real MOS = 3, Predicted MOS = 2\n",
      "Example 5: Real MOS = 3, Predicted MOS = 2\n"
     ]
    },
    {
     "name": "stderr",
     "output_type": "stream",
     "text": [
      "Epoch 48 Training:   0%|                                                                      | 0/3525 [00:00<?, ?it/s]C:\\Users\\q\\AppData\\Local\\Temp\\ipykernel_17128\\4199959549.py:40: FutureWarning: `torch.cuda.amp.autocast(args...)` is deprecated. Please use `torch.amp.autocast('cuda', args...)` instead.\n",
      "  with torch.cuda.amp.autocast():\n",
      "                                                                                                                       \r"
     ]
    },
    {
     "name": "stdout",
     "output_type": "stream",
     "text": [
      "Epoch 48/100 - Train Loss: 0.0847 | Train MSE: 1.2564\n"
     ]
    },
    {
     "name": "stderr",
     "output_type": "stream",
     "text": [
      "                                                                                                                       \r"
     ]
    },
    {
     "name": "stdout",
     "output_type": "stream",
     "text": [
      "Epoch 48/100 - Val Loss: 0.0769 | Val MSE: 0.9833\n",
      "\n",
      "Sample Predictions (Real MOS vs Predicted MOS):\n",
      "Example 1: Real MOS = 4, Predicted MOS = 4\n",
      "Example 2: Real MOS = 4, Predicted MOS = 4\n",
      "Example 3: Real MOS = 4, Predicted MOS = 3\n",
      "Example 4: Real MOS = 3, Predicted MOS = 5\n",
      "Example 5: Real MOS = 3, Predicted MOS = 2\n"
     ]
    },
    {
     "name": "stderr",
     "output_type": "stream",
     "text": [
      "Epoch 49 Training:   0%|                                                                      | 0/3525 [00:00<?, ?it/s]C:\\Users\\q\\AppData\\Local\\Temp\\ipykernel_17128\\4199959549.py:40: FutureWarning: `torch.cuda.amp.autocast(args...)` is deprecated. Please use `torch.amp.autocast('cuda', args...)` instead.\n",
      "  with torch.cuda.amp.autocast():\n",
      "                                                                                                                       \r"
     ]
    },
    {
     "name": "stdout",
     "output_type": "stream",
     "text": [
      "Epoch 49/100 - Train Loss: 0.0846 | Train MSE: 1.2489\n"
     ]
    },
    {
     "name": "stderr",
     "output_type": "stream",
     "text": [
      "                                                                                                                       \r"
     ]
    },
    {
     "name": "stdout",
     "output_type": "stream",
     "text": [
      "Epoch 49/100 - Val Loss: 0.0787 | Val MSE: 1.0140\n",
      "\n",
      "Sample Predictions (Real MOS vs Predicted MOS):\n",
      "Example 1: Real MOS = 4, Predicted MOS = 4\n",
      "Example 2: Real MOS = 4, Predicted MOS = 4\n",
      "Example 3: Real MOS = 4, Predicted MOS = 3\n",
      "Example 4: Real MOS = 3, Predicted MOS = 5\n",
      "Example 5: Real MOS = 3, Predicted MOS = 2\n"
     ]
    },
    {
     "name": "stderr",
     "output_type": "stream",
     "text": [
      "Epoch 50 Training:   0%|                                                                      | 0/3525 [00:00<?, ?it/s]C:\\Users\\q\\AppData\\Local\\Temp\\ipykernel_17128\\4199959549.py:40: FutureWarning: `torch.cuda.amp.autocast(args...)` is deprecated. Please use `torch.amp.autocast('cuda', args...)` instead.\n",
      "  with torch.cuda.amp.autocast():\n",
      "                                                                                                                       \r"
     ]
    },
    {
     "name": "stdout",
     "output_type": "stream",
     "text": [
      "Epoch 50/100 - Train Loss: 0.0845 | Train MSE: 1.2536\n"
     ]
    },
    {
     "name": "stderr",
     "output_type": "stream",
     "text": [
      "                                                                                                                       \r"
     ]
    },
    {
     "name": "stdout",
     "output_type": "stream",
     "text": [
      "Epoch 50/100 - Val Loss: 0.0768 | Val MSE: 0.9783\n",
      "\n",
      "Sample Predictions (Real MOS vs Predicted MOS):\n",
      "Example 1: Real MOS = 4, Predicted MOS = 4\n",
      "Example 2: Real MOS = 4, Predicted MOS = 4\n",
      "Example 3: Real MOS = 4, Predicted MOS = 3\n",
      "Example 4: Real MOS = 3, Predicted MOS = 5\n",
      "Example 5: Real MOS = 3, Predicted MOS = 3\n"
     ]
    },
    {
     "name": "stderr",
     "output_type": "stream",
     "text": [
      "Epoch 51 Training:   0%|                                                                      | 0/3525 [00:00<?, ?it/s]C:\\Users\\q\\AppData\\Local\\Temp\\ipykernel_17128\\4199959549.py:40: FutureWarning: `torch.cuda.amp.autocast(args...)` is deprecated. Please use `torch.amp.autocast('cuda', args...)` instead.\n",
      "  with torch.cuda.amp.autocast():\n",
      "                                                                                                                       \r"
     ]
    },
    {
     "name": "stdout",
     "output_type": "stream",
     "text": [
      "Epoch 51/100 - Train Loss: 0.0846 | Train MSE: 1.2520\n"
     ]
    },
    {
     "name": "stderr",
     "output_type": "stream",
     "text": [
      "                                                                                                                       \r"
     ]
    },
    {
     "name": "stdout",
     "output_type": "stream",
     "text": [
      "Epoch 51/100 - Val Loss: 0.0773 | Val MSE: 0.9667\n",
      "\n",
      "Sample Predictions (Real MOS vs Predicted MOS):\n",
      "Example 1: Real MOS = 4, Predicted MOS = 3\n",
      "Example 2: Real MOS = 4, Predicted MOS = 4\n",
      "Example 3: Real MOS = 4, Predicted MOS = 3\n",
      "Example 4: Real MOS = 3, Predicted MOS = 5\n",
      "Example 5: Real MOS = 3, Predicted MOS = 3\n"
     ]
    },
    {
     "name": "stderr",
     "output_type": "stream",
     "text": [
      "Epoch 52 Training:   0%|                                                                      | 0/3525 [00:00<?, ?it/s]C:\\Users\\q\\AppData\\Local\\Temp\\ipykernel_17128\\4199959549.py:40: FutureWarning: `torch.cuda.amp.autocast(args...)` is deprecated. Please use `torch.amp.autocast('cuda', args...)` instead.\n",
      "  with torch.cuda.amp.autocast():\n",
      "                                                                                                                       \r"
     ]
    },
    {
     "name": "stdout",
     "output_type": "stream",
     "text": [
      "Epoch 52/100 - Train Loss: 0.0849 | Train MSE: 1.2263\n"
     ]
    },
    {
     "name": "stderr",
     "output_type": "stream",
     "text": [
      "                                                                                                                       \r"
     ]
    },
    {
     "name": "stdout",
     "output_type": "stream",
     "text": [
      "Epoch 52/100 - Val Loss: 0.0799 | Val MSE: 1.0670\n",
      "\n",
      "Sample Predictions (Real MOS vs Predicted MOS):\n",
      "Example 1: Real MOS = 4, Predicted MOS = 4\n",
      "Example 2: Real MOS = 4, Predicted MOS = 4\n",
      "Example 3: Real MOS = 4, Predicted MOS = 3\n",
      "Example 4: Real MOS = 3, Predicted MOS = 5\n",
      "Example 5: Real MOS = 3, Predicted MOS = 2\n"
     ]
    },
    {
     "name": "stderr",
     "output_type": "stream",
     "text": [
      "Epoch 53 Training:   0%|                                                                      | 0/3525 [00:00<?, ?it/s]C:\\Users\\q\\AppData\\Local\\Temp\\ipykernel_17128\\4199959549.py:40: FutureWarning: `torch.cuda.amp.autocast(args...)` is deprecated. Please use `torch.amp.autocast('cuda', args...)` instead.\n",
      "  with torch.cuda.amp.autocast():\n",
      "                                                                                                                       \r"
     ]
    },
    {
     "name": "stdout",
     "output_type": "stream",
     "text": [
      "Epoch 53/100 - Train Loss: 0.0838 | Train MSE: 1.2250\n"
     ]
    },
    {
     "name": "stderr",
     "output_type": "stream",
     "text": [
      "                                                                                                                       \r"
     ]
    },
    {
     "name": "stdout",
     "output_type": "stream",
     "text": [
      "Epoch 53/100 - Val Loss: 0.0743 | Val MSE: 0.8717\n",
      "\n",
      "Sample Predictions (Real MOS vs Predicted MOS):\n",
      "Example 1: Real MOS = 4, Predicted MOS = 4\n",
      "Example 2: Real MOS = 4, Predicted MOS = 4\n",
      "Example 3: Real MOS = 4, Predicted MOS = 3\n",
      "Example 4: Real MOS = 3, Predicted MOS = 5\n",
      "Example 5: Real MOS = 3, Predicted MOS = 2\n"
     ]
    },
    {
     "name": "stderr",
     "output_type": "stream",
     "text": [
      "Epoch 54 Training:   0%|                                                                      | 0/3525 [00:00<?, ?it/s]C:\\Users\\q\\AppData\\Local\\Temp\\ipykernel_17128\\4199959549.py:40: FutureWarning: `torch.cuda.amp.autocast(args...)` is deprecated. Please use `torch.amp.autocast('cuda', args...)` instead.\n",
      "  with torch.cuda.amp.autocast():\n",
      "                                                                                                                       \r"
     ]
    },
    {
     "name": "stdout",
     "output_type": "stream",
     "text": [
      "Epoch 54/100 - Train Loss: 0.0823 | Train MSE: 1.2097\n"
     ]
    },
    {
     "name": "stderr",
     "output_type": "stream",
     "text": [
      "                                                                                                                       \r"
     ]
    },
    {
     "name": "stdout",
     "output_type": "stream",
     "text": [
      "Epoch 54/100 - Val Loss: 0.0760 | Val MSE: 0.9813\n",
      "\n",
      "Sample Predictions (Real MOS vs Predicted MOS):\n",
      "Example 1: Real MOS = 4, Predicted MOS = 4\n",
      "Example 2: Real MOS = 4, Predicted MOS = 4\n",
      "Example 3: Real MOS = 4, Predicted MOS = 3\n",
      "Example 4: Real MOS = 3, Predicted MOS = 5\n",
      "Example 5: Real MOS = 3, Predicted MOS = 2\n"
     ]
    },
    {
     "name": "stderr",
     "output_type": "stream",
     "text": [
      "Epoch 55 Training:   0%|                                                                      | 0/3525 [00:00<?, ?it/s]C:\\Users\\q\\AppData\\Local\\Temp\\ipykernel_17128\\4199959549.py:40: FutureWarning: `torch.cuda.amp.autocast(args...)` is deprecated. Please use `torch.amp.autocast('cuda', args...)` instead.\n",
      "  with torch.cuda.amp.autocast():\n",
      "                                                                                                                       \r"
     ]
    },
    {
     "name": "stdout",
     "output_type": "stream",
     "text": [
      "Epoch 55/100 - Train Loss: 0.0819 | Train MSE: 1.1597\n"
     ]
    },
    {
     "name": "stderr",
     "output_type": "stream",
     "text": [
      "                                                                                                                       \r"
     ]
    },
    {
     "name": "stdout",
     "output_type": "stream",
     "text": [
      "Epoch 55/100 - Val Loss: 0.0772 | Val MSE: 1.0130\n",
      "\n",
      "Sample Predictions (Real MOS vs Predicted MOS):\n",
      "Example 1: Real MOS = 4, Predicted MOS = 4\n",
      "Example 2: Real MOS = 4, Predicted MOS = 4\n",
      "Example 3: Real MOS = 4, Predicted MOS = 3\n",
      "Example 4: Real MOS = 3, Predicted MOS = 5\n",
      "Example 5: Real MOS = 3, Predicted MOS = 2\n"
     ]
    },
    {
     "name": "stderr",
     "output_type": "stream",
     "text": [
      "Epoch 56 Training:   0%|                                                                      | 0/3525 [00:00<?, ?it/s]C:\\Users\\q\\AppData\\Local\\Temp\\ipykernel_17128\\4199959549.py:40: FutureWarning: `torch.cuda.amp.autocast(args...)` is deprecated. Please use `torch.amp.autocast('cuda', args...)` instead.\n",
      "  with torch.cuda.amp.autocast():\n",
      "                                                                                                                       \r"
     ]
    },
    {
     "name": "stdout",
     "output_type": "stream",
     "text": [
      "Epoch 56/100 - Train Loss: 0.0815 | Train MSE: 1.1763\n"
     ]
    },
    {
     "name": "stderr",
     "output_type": "stream",
     "text": [
      "                                                                                                                       \r"
     ]
    },
    {
     "name": "stdout",
     "output_type": "stream",
     "text": [
      "Epoch 56/100 - Val Loss: 0.0740 | Val MSE: 0.8893\n",
      "\n",
      "Sample Predictions (Real MOS vs Predicted MOS):\n",
      "Example 1: Real MOS = 4, Predicted MOS = 4\n",
      "Example 2: Real MOS = 4, Predicted MOS = 4\n",
      "Example 3: Real MOS = 4, Predicted MOS = 3\n",
      "Example 4: Real MOS = 3, Predicted MOS = 5\n",
      "Example 5: Real MOS = 3, Predicted MOS = 3\n"
     ]
    },
    {
     "name": "stderr",
     "output_type": "stream",
     "text": [
      "Epoch 57 Training:   0%|                                                                      | 0/3525 [00:00<?, ?it/s]C:\\Users\\q\\AppData\\Local\\Temp\\ipykernel_17128\\4199959549.py:40: FutureWarning: `torch.cuda.amp.autocast(args...)` is deprecated. Please use `torch.amp.autocast('cuda', args...)` instead.\n",
      "  with torch.cuda.amp.autocast():\n",
      "                                                                                                                       \r"
     ]
    },
    {
     "name": "stdout",
     "output_type": "stream",
     "text": [
      "Epoch 57/100 - Train Loss: 0.0815 | Train MSE: 1.1760\n"
     ]
    },
    {
     "name": "stderr",
     "output_type": "stream",
     "text": [
      "                                                                                                                       \r"
     ]
    },
    {
     "name": "stdout",
     "output_type": "stream",
     "text": [
      "Epoch 57/100 - Val Loss: 0.0779 | Val MSE: 1.0193\n",
      "\n",
      "Sample Predictions (Real MOS vs Predicted MOS):\n",
      "Example 1: Real MOS = 4, Predicted MOS = 4\n",
      "Example 2: Real MOS = 4, Predicted MOS = 4\n",
      "Example 3: Real MOS = 4, Predicted MOS = 5\n",
      "Example 4: Real MOS = 3, Predicted MOS = 5\n",
      "Example 5: Real MOS = 3, Predicted MOS = 2\n"
     ]
    },
    {
     "name": "stderr",
     "output_type": "stream",
     "text": [
      "Epoch 58 Training:   0%|                                                                      | 0/3525 [00:00<?, ?it/s]C:\\Users\\q\\AppData\\Local\\Temp\\ipykernel_17128\\4199959549.py:40: FutureWarning: `torch.cuda.amp.autocast(args...)` is deprecated. Please use `torch.amp.autocast('cuda', args...)` instead.\n",
      "  with torch.cuda.amp.autocast():\n",
      "                                                                                                                       \r"
     ]
    },
    {
     "name": "stdout",
     "output_type": "stream",
     "text": [
      "Epoch 58/100 - Train Loss: 0.0806 | Train MSE: 1.1374\n"
     ]
    },
    {
     "name": "stderr",
     "output_type": "stream",
     "text": [
      "                                                                                                                       \r"
     ]
    },
    {
     "name": "stdout",
     "output_type": "stream",
     "text": [
      "Epoch 58/100 - Val Loss: 0.0806 | Val MSE: 1.0783\n",
      "\n",
      "Sample Predictions (Real MOS vs Predicted MOS):\n",
      "Example 1: Real MOS = 4, Predicted MOS = 3\n",
      "Example 2: Real MOS = 4, Predicted MOS = 4\n",
      "Example 3: Real MOS = 4, Predicted MOS = 3\n",
      "Example 4: Real MOS = 3, Predicted MOS = 5\n",
      "Example 5: Real MOS = 3, Predicted MOS = 2\n"
     ]
    },
    {
     "name": "stderr",
     "output_type": "stream",
     "text": [
      "Epoch 59 Training:   0%|                                                                      | 0/3525 [00:00<?, ?it/s]C:\\Users\\q\\AppData\\Local\\Temp\\ipykernel_17128\\4199959549.py:40: FutureWarning: `torch.cuda.amp.autocast(args...)` is deprecated. Please use `torch.amp.autocast('cuda', args...)` instead.\n",
      "  with torch.cuda.amp.autocast():\n",
      "                                                                                                                       \r"
     ]
    },
    {
     "name": "stdout",
     "output_type": "stream",
     "text": [
      "Epoch 59/100 - Train Loss: 0.0803 | Train MSE: 1.1389\n"
     ]
    },
    {
     "name": "stderr",
     "output_type": "stream",
     "text": [
      "                                                                                                                       \r"
     ]
    },
    {
     "name": "stdout",
     "output_type": "stream",
     "text": [
      "Epoch 59/100 - Val Loss: 0.0735 | Val MSE: 0.7627\n",
      "\n",
      "Sample Predictions (Real MOS vs Predicted MOS):\n",
      "Example 1: Real MOS = 4, Predicted MOS = 4\n",
      "Example 2: Real MOS = 4, Predicted MOS = 4\n",
      "Example 3: Real MOS = 4, Predicted MOS = 3\n",
      "Example 4: Real MOS = 3, Predicted MOS = 5\n",
      "Example 5: Real MOS = 3, Predicted MOS = 2\n"
     ]
    },
    {
     "name": "stderr",
     "output_type": "stream",
     "text": [
      "Epoch 60 Training:   0%|                                                                      | 0/3525 [00:00<?, ?it/s]C:\\Users\\q\\AppData\\Local\\Temp\\ipykernel_17128\\4199959549.py:40: FutureWarning: `torch.cuda.amp.autocast(args...)` is deprecated. Please use `torch.amp.autocast('cuda', args...)` instead.\n",
      "  with torch.cuda.amp.autocast():\n",
      "                                                                                                                       \r"
     ]
    },
    {
     "name": "stdout",
     "output_type": "stream",
     "text": [
      "Epoch 60/100 - Train Loss: 0.0821 | Train MSE: 1.1809\n"
     ]
    },
    {
     "name": "stderr",
     "output_type": "stream",
     "text": [
      "                                                                                                                       \r"
     ]
    },
    {
     "name": "stdout",
     "output_type": "stream",
     "text": [
      "Epoch 60/100 - Val Loss: 0.0736 | Val MSE: 0.8783\n",
      "\n",
      "Sample Predictions (Real MOS vs Predicted MOS):\n",
      "Example 1: Real MOS = 4, Predicted MOS = 4\n",
      "Example 2: Real MOS = 4, Predicted MOS = 4\n",
      "Example 3: Real MOS = 4, Predicted MOS = 3\n",
      "Example 4: Real MOS = 3, Predicted MOS = 5\n",
      "Example 5: Real MOS = 3, Predicted MOS = 3\n"
     ]
    },
    {
     "name": "stderr",
     "output_type": "stream",
     "text": [
      "Epoch 61 Training:   0%|                                                                      | 0/3525 [00:00<?, ?it/s]C:\\Users\\q\\AppData\\Local\\Temp\\ipykernel_17128\\4199959549.py:40: FutureWarning: `torch.cuda.amp.autocast(args...)` is deprecated. Please use `torch.amp.autocast('cuda', args...)` instead.\n",
      "  with torch.cuda.amp.autocast():\n",
      "                                                                                                                       \r"
     ]
    },
    {
     "name": "stdout",
     "output_type": "stream",
     "text": [
      "Epoch 61/100 - Train Loss: 0.0802 | Train MSE: 1.1397\n"
     ]
    },
    {
     "name": "stderr",
     "output_type": "stream",
     "text": [
      "                                                                                                                       \r"
     ]
    },
    {
     "name": "stdout",
     "output_type": "stream",
     "text": [
      "Epoch 61/100 - Val Loss: 0.0766 | Val MSE: 0.9453\n",
      "\n",
      "Sample Predictions (Real MOS vs Predicted MOS):\n",
      "Example 1: Real MOS = 4, Predicted MOS = 3\n",
      "Example 2: Real MOS = 4, Predicted MOS = 4\n",
      "Example 3: Real MOS = 4, Predicted MOS = 3\n",
      "Example 4: Real MOS = 3, Predicted MOS = 5\n",
      "Example 5: Real MOS = 3, Predicted MOS = 2\n"
     ]
    },
    {
     "name": "stderr",
     "output_type": "stream",
     "text": [
      "Epoch 62 Training:   0%|                                                                      | 0/3525 [00:00<?, ?it/s]C:\\Users\\q\\AppData\\Local\\Temp\\ipykernel_17128\\4199959549.py:40: FutureWarning: `torch.cuda.amp.autocast(args...)` is deprecated. Please use `torch.amp.autocast('cuda', args...)` instead.\n",
      "  with torch.cuda.amp.autocast():\n",
      "                                                                                                                       \r"
     ]
    },
    {
     "name": "stdout",
     "output_type": "stream",
     "text": [
      "Epoch 62/100 - Train Loss: 0.0803 | Train MSE: 1.1126\n"
     ]
    },
    {
     "name": "stderr",
     "output_type": "stream",
     "text": [
      "                                                                                                                       \r"
     ]
    },
    {
     "name": "stdout",
     "output_type": "stream",
     "text": [
      "Epoch 62/100 - Val Loss: 0.0757 | Val MSE: 0.9403\n",
      "\n",
      "Sample Predictions (Real MOS vs Predicted MOS):\n",
      "Example 1: Real MOS = 4, Predicted MOS = 4\n",
      "Example 2: Real MOS = 4, Predicted MOS = 4\n",
      "Example 3: Real MOS = 4, Predicted MOS = 3\n",
      "Example 4: Real MOS = 3, Predicted MOS = 5\n",
      "Example 5: Real MOS = 3, Predicted MOS = 3\n"
     ]
    },
    {
     "name": "stderr",
     "output_type": "stream",
     "text": [
      "Epoch 63 Training:   0%|                                                                      | 0/3525 [00:00<?, ?it/s]C:\\Users\\q\\AppData\\Local\\Temp\\ipykernel_17128\\4199959549.py:40: FutureWarning: `torch.cuda.amp.autocast(args...)` is deprecated. Please use `torch.amp.autocast('cuda', args...)` instead.\n",
      "  with torch.cuda.amp.autocast():\n",
      "                                                                                                                       \r"
     ]
    },
    {
     "name": "stdout",
     "output_type": "stream",
     "text": [
      "Epoch 63/100 - Train Loss: 0.0790 | Train MSE: 1.0848\n"
     ]
    },
    {
     "name": "stderr",
     "output_type": "stream",
     "text": [
      "                                                                                                                       \r"
     ]
    },
    {
     "name": "stdout",
     "output_type": "stream",
     "text": [
      "Epoch 63/100 - Val Loss: 0.0766 | Val MSE: 0.9597\n",
      "\n",
      "Sample Predictions (Real MOS vs Predicted MOS):\n",
      "Example 1: Real MOS = 4, Predicted MOS = 4\n",
      "Example 2: Real MOS = 4, Predicted MOS = 4\n",
      "Example 3: Real MOS = 4, Predicted MOS = 5\n",
      "Example 4: Real MOS = 3, Predicted MOS = 5\n",
      "Example 5: Real MOS = 3, Predicted MOS = 2\n"
     ]
    },
    {
     "name": "stderr",
     "output_type": "stream",
     "text": [
      "Epoch 64 Training:   0%|                                                                      | 0/3525 [00:00<?, ?it/s]C:\\Users\\q\\AppData\\Local\\Temp\\ipykernel_17128\\4199959549.py:40: FutureWarning: `torch.cuda.amp.autocast(args...)` is deprecated. Please use `torch.amp.autocast('cuda', args...)` instead.\n",
      "  with torch.cuda.amp.autocast():\n",
      "                                                                                                                       \r"
     ]
    },
    {
     "name": "stdout",
     "output_type": "stream",
     "text": [
      "Epoch 64/100 - Train Loss: 0.0784 | Train MSE: 1.0797\n"
     ]
    },
    {
     "name": "stderr",
     "output_type": "stream",
     "text": [
      "                                                                                                                       \r"
     ]
    },
    {
     "name": "stdout",
     "output_type": "stream",
     "text": [
      "Epoch 64/100 - Val Loss: 0.0732 | Val MSE: 0.8190\n",
      "\n",
      "Sample Predictions (Real MOS vs Predicted MOS):\n",
      "Example 1: Real MOS = 4, Predicted MOS = 3\n",
      "Example 2: Real MOS = 4, Predicted MOS = 4\n",
      "Example 3: Real MOS = 4, Predicted MOS = 3\n",
      "Example 4: Real MOS = 3, Predicted MOS = 4\n",
      "Example 5: Real MOS = 3, Predicted MOS = 2\n"
     ]
    },
    {
     "name": "stderr",
     "output_type": "stream",
     "text": [
      "Epoch 65 Training:   0%|                                                                      | 0/3525 [00:00<?, ?it/s]C:\\Users\\q\\AppData\\Local\\Temp\\ipykernel_17128\\4199959549.py:40: FutureWarning: `torch.cuda.amp.autocast(args...)` is deprecated. Please use `torch.amp.autocast('cuda', args...)` instead.\n",
      "  with torch.cuda.amp.autocast():\n",
      "                                                                                                                       \r"
     ]
    },
    {
     "ename": "RuntimeError",
     "evalue": "Failed to load audio: ",
     "output_type": "error",
     "traceback": [
      "\u001b[1;31m---------------------------------------------------------------------------\u001b[0m",
      "\u001b[1;31mCalledProcessError\u001b[0m                        Traceback (most recent call last)",
      "File \u001b[1;32mD:\\ProgramData\\anaconda\\envs\\project\\Lib\\site-packages\\whisper\\audio.py:58\u001b[0m, in \u001b[0;36mload_audio\u001b[1;34m(file, sr)\u001b[0m\n\u001b[0;32m     57\u001b[0m \u001b[38;5;28;01mtry\u001b[39;00m:\n\u001b[1;32m---> 58\u001b[0m     out \u001b[38;5;241m=\u001b[39m \u001b[43mrun\u001b[49m\u001b[43m(\u001b[49m\u001b[43mcmd\u001b[49m\u001b[43m,\u001b[49m\u001b[43m \u001b[49m\u001b[43mcapture_output\u001b[49m\u001b[38;5;241;43m=\u001b[39;49m\u001b[38;5;28;43;01mTrue\u001b[39;49;00m\u001b[43m,\u001b[49m\u001b[43m \u001b[49m\u001b[43mcheck\u001b[49m\u001b[38;5;241;43m=\u001b[39;49m\u001b[38;5;28;43;01mTrue\u001b[39;49;00m\u001b[43m)\u001b[49m\u001b[38;5;241m.\u001b[39mstdout\n\u001b[0;32m     59\u001b[0m \u001b[38;5;28;01mexcept\u001b[39;00m CalledProcessError \u001b[38;5;28;01mas\u001b[39;00m e:\n",
      "File \u001b[1;32mD:\\ProgramData\\anaconda\\envs\\project\\Lib\\subprocess.py:571\u001b[0m, in \u001b[0;36mrun\u001b[1;34m(input, capture_output, timeout, check, *popenargs, **kwargs)\u001b[0m\n\u001b[0;32m    570\u001b[0m     \u001b[38;5;28;01mif\u001b[39;00m check \u001b[38;5;129;01mand\u001b[39;00m retcode:\n\u001b[1;32m--> 571\u001b[0m         \u001b[38;5;28;01mraise\u001b[39;00m CalledProcessError(retcode, process\u001b[38;5;241m.\u001b[39margs,\n\u001b[0;32m    572\u001b[0m                                  output\u001b[38;5;241m=\u001b[39mstdout, stderr\u001b[38;5;241m=\u001b[39mstderr)\n\u001b[0;32m    573\u001b[0m \u001b[38;5;28;01mreturn\u001b[39;00m CompletedProcess(process\u001b[38;5;241m.\u001b[39margs, retcode, stdout, stderr)\n",
      "\u001b[1;31mCalledProcessError\u001b[0m: Command '['ffmpeg', '-nostdin', '-threads', '0', '-i', 'data/somos/audios\\\\clean/broadcast_2010_0025_018.wav', '-f', 's16le', '-ac', '1', '-acodec', 'pcm_s16le', '-ar', '16000', '-']' returned non-zero exit status 2147943855.",
      "\nThe above exception was the direct cause of the following exception:\n",
      "\u001b[1;31mRuntimeError\u001b[0m                              Traceback (most recent call last)",
      "Cell \u001b[1;32mIn[8], line 1\u001b[0m\n\u001b[1;32m----> 1\u001b[0m \u001b[43mmain\u001b[49m\u001b[43m(\u001b[49m\u001b[43m)\u001b[49m\n",
      "Cell \u001b[1;32mIn[7], line 38\u001b[0m, in \u001b[0;36mmain\u001b[1;34m()\u001b[0m\n\u001b[0;32m     35\u001b[0m true_labels, predicted_labels \u001b[38;5;241m=\u001b[39m [], []\n\u001b[0;32m     37\u001b[0m train_pbar \u001b[38;5;241m=\u001b[39m tqdm(train_loader, desc\u001b[38;5;241m=\u001b[39m\u001b[38;5;124mf\u001b[39m\u001b[38;5;124m\"\u001b[39m\u001b[38;5;124mEpoch \u001b[39m\u001b[38;5;132;01m{\u001b[39;00mepoch\u001b[38;5;241m+\u001b[39m\u001b[38;5;241m1\u001b[39m\u001b[38;5;132;01m}\u001b[39;00m\u001b[38;5;124m Training\u001b[39m\u001b[38;5;124m\"\u001b[39m, leave\u001b[38;5;241m=\u001b[39m\u001b[38;5;28;01mFalse\u001b[39;00m)\n\u001b[1;32m---> 38\u001b[0m \u001b[43m\u001b[49m\u001b[38;5;28;43;01mfor\u001b[39;49;00m\u001b[43m \u001b[49m\u001b[43maudio_emb\u001b[49m\u001b[43m,\u001b[49m\u001b[43m \u001b[49m\u001b[43mtext_emb\u001b[49m\u001b[43m,\u001b[49m\u001b[43m \u001b[49m\u001b[43mlabels\u001b[49m\u001b[43m \u001b[49m\u001b[38;5;129;43;01min\u001b[39;49;00m\u001b[43m \u001b[49m\u001b[43mtrain_pbar\u001b[49m\u001b[43m:\u001b[49m\n\u001b[0;32m     39\u001b[0m \u001b[43m    \u001b[49m\u001b[43moptimizer\u001b[49m\u001b[38;5;241;43m.\u001b[39;49m\u001b[43mzero_grad\u001b[49m\u001b[43m(\u001b[49m\u001b[43m)\u001b[49m\n\u001b[0;32m     40\u001b[0m \u001b[43m    \u001b[49m\u001b[38;5;28;43;01mwith\u001b[39;49;00m\u001b[43m \u001b[49m\u001b[43mtorch\u001b[49m\u001b[38;5;241;43m.\u001b[39;49m\u001b[43mcuda\u001b[49m\u001b[38;5;241;43m.\u001b[39;49m\u001b[43mamp\u001b[49m\u001b[38;5;241;43m.\u001b[39;49m\u001b[43mautocast\u001b[49m\u001b[43m(\u001b[49m\u001b[43m)\u001b[49m\u001b[43m:\u001b[49m\n",
      "File \u001b[1;32mD:\\ProgramData\\anaconda\\envs\\project\\Lib\\site-packages\\tqdm\\std.py:1181\u001b[0m, in \u001b[0;36mtqdm.__iter__\u001b[1;34m(self)\u001b[0m\n\u001b[0;32m   1178\u001b[0m time \u001b[38;5;241m=\u001b[39m \u001b[38;5;28mself\u001b[39m\u001b[38;5;241m.\u001b[39m_time\n\u001b[0;32m   1180\u001b[0m \u001b[38;5;28;01mtry\u001b[39;00m:\n\u001b[1;32m-> 1181\u001b[0m \u001b[43m    \u001b[49m\u001b[38;5;28;43;01mfor\u001b[39;49;00m\u001b[43m \u001b[49m\u001b[43mobj\u001b[49m\u001b[43m \u001b[49m\u001b[38;5;129;43;01min\u001b[39;49;00m\u001b[43m \u001b[49m\u001b[43miterable\u001b[49m\u001b[43m:\u001b[49m\n\u001b[0;32m   1182\u001b[0m \u001b[43m        \u001b[49m\u001b[38;5;28;43;01myield\u001b[39;49;00m\u001b[43m \u001b[49m\u001b[43mobj\u001b[49m\n\u001b[0;32m   1183\u001b[0m \u001b[43m        \u001b[49m\u001b[38;5;66;43;03m# Update and possibly print the progressbar.\u001b[39;49;00m\n\u001b[0;32m   1184\u001b[0m \u001b[43m        \u001b[49m\u001b[38;5;66;43;03m# Note: does not call self.update(1) for speed optimisation.\u001b[39;49;00m\n",
      "File \u001b[1;32mD:\\ProgramData\\anaconda\\envs\\project\\Lib\\site-packages\\torch\\utils\\data\\dataloader.py:708\u001b[0m, in \u001b[0;36m_BaseDataLoaderIter.__next__\u001b[1;34m(self)\u001b[0m\n\u001b[0;32m    705\u001b[0m \u001b[38;5;28;01mif\u001b[39;00m \u001b[38;5;28mself\u001b[39m\u001b[38;5;241m.\u001b[39m_sampler_iter \u001b[38;5;129;01mis\u001b[39;00m \u001b[38;5;28;01mNone\u001b[39;00m:\n\u001b[0;32m    706\u001b[0m     \u001b[38;5;66;03m# TODO(https://github.com/pytorch/pytorch/issues/76750)\u001b[39;00m\n\u001b[0;32m    707\u001b[0m     \u001b[38;5;28mself\u001b[39m\u001b[38;5;241m.\u001b[39m_reset()  \u001b[38;5;66;03m# type: ignore[call-arg]\u001b[39;00m\n\u001b[1;32m--> 708\u001b[0m data \u001b[38;5;241m=\u001b[39m \u001b[38;5;28;43mself\u001b[39;49m\u001b[38;5;241;43m.\u001b[39;49m\u001b[43m_next_data\u001b[49m\u001b[43m(\u001b[49m\u001b[43m)\u001b[49m\n\u001b[0;32m    709\u001b[0m \u001b[38;5;28mself\u001b[39m\u001b[38;5;241m.\u001b[39m_num_yielded \u001b[38;5;241m+\u001b[39m\u001b[38;5;241m=\u001b[39m \u001b[38;5;241m1\u001b[39m\n\u001b[0;32m    710\u001b[0m \u001b[38;5;28;01mif\u001b[39;00m (\n\u001b[0;32m    711\u001b[0m     \u001b[38;5;28mself\u001b[39m\u001b[38;5;241m.\u001b[39m_dataset_kind \u001b[38;5;241m==\u001b[39m _DatasetKind\u001b[38;5;241m.\u001b[39mIterable\n\u001b[0;32m    712\u001b[0m     \u001b[38;5;129;01mand\u001b[39;00m \u001b[38;5;28mself\u001b[39m\u001b[38;5;241m.\u001b[39m_IterableDataset_len_called \u001b[38;5;129;01mis\u001b[39;00m \u001b[38;5;129;01mnot\u001b[39;00m \u001b[38;5;28;01mNone\u001b[39;00m\n\u001b[0;32m    713\u001b[0m     \u001b[38;5;129;01mand\u001b[39;00m \u001b[38;5;28mself\u001b[39m\u001b[38;5;241m.\u001b[39m_num_yielded \u001b[38;5;241m>\u001b[39m \u001b[38;5;28mself\u001b[39m\u001b[38;5;241m.\u001b[39m_IterableDataset_len_called\n\u001b[0;32m    714\u001b[0m ):\n",
      "File \u001b[1;32mD:\\ProgramData\\anaconda\\envs\\project\\Lib\\site-packages\\torch\\utils\\data\\dataloader.py:764\u001b[0m, in \u001b[0;36m_SingleProcessDataLoaderIter._next_data\u001b[1;34m(self)\u001b[0m\n\u001b[0;32m    762\u001b[0m \u001b[38;5;28;01mdef\u001b[39;00m \u001b[38;5;21m_next_data\u001b[39m(\u001b[38;5;28mself\u001b[39m):\n\u001b[0;32m    763\u001b[0m     index \u001b[38;5;241m=\u001b[39m \u001b[38;5;28mself\u001b[39m\u001b[38;5;241m.\u001b[39m_next_index()  \u001b[38;5;66;03m# may raise StopIteration\u001b[39;00m\n\u001b[1;32m--> 764\u001b[0m     data \u001b[38;5;241m=\u001b[39m \u001b[38;5;28;43mself\u001b[39;49m\u001b[38;5;241;43m.\u001b[39;49m\u001b[43m_dataset_fetcher\u001b[49m\u001b[38;5;241;43m.\u001b[39;49m\u001b[43mfetch\u001b[49m\u001b[43m(\u001b[49m\u001b[43mindex\u001b[49m\u001b[43m)\u001b[49m  \u001b[38;5;66;03m# may raise StopIteration\u001b[39;00m\n\u001b[0;32m    765\u001b[0m     \u001b[38;5;28;01mif\u001b[39;00m \u001b[38;5;28mself\u001b[39m\u001b[38;5;241m.\u001b[39m_pin_memory:\n\u001b[0;32m    766\u001b[0m         data \u001b[38;5;241m=\u001b[39m _utils\u001b[38;5;241m.\u001b[39mpin_memory\u001b[38;5;241m.\u001b[39mpin_memory(data, \u001b[38;5;28mself\u001b[39m\u001b[38;5;241m.\u001b[39m_pin_memory_device)\n",
      "File \u001b[1;32mD:\\ProgramData\\anaconda\\envs\\project\\Lib\\site-packages\\torch\\utils\\data\\_utils\\fetch.py:55\u001b[0m, in \u001b[0;36m_MapDatasetFetcher.fetch\u001b[1;34m(self, possibly_batched_index)\u001b[0m\n\u001b[0;32m     53\u001b[0m \u001b[38;5;28;01melse\u001b[39;00m:\n\u001b[0;32m     54\u001b[0m     data \u001b[38;5;241m=\u001b[39m \u001b[38;5;28mself\u001b[39m\u001b[38;5;241m.\u001b[39mdataset[possibly_batched_index]\n\u001b[1;32m---> 55\u001b[0m \u001b[38;5;28;01mreturn\u001b[39;00m \u001b[38;5;28;43mself\u001b[39;49m\u001b[38;5;241;43m.\u001b[39;49m\u001b[43mcollate_fn\u001b[49m\u001b[43m(\u001b[49m\u001b[43mdata\u001b[49m\u001b[43m)\u001b[49m\n",
      "Cell \u001b[1;32mIn[5], line 21\u001b[0m, in \u001b[0;36mcollate_fn\u001b[1;34m(batch)\u001b[0m\n\u001b[0;32m     19\u001b[0m \u001b[38;5;28;01mdef\u001b[39;00m \u001b[38;5;21mcollate_fn\u001b[39m(batch):\n\u001b[0;32m     20\u001b[0m     audio_paths, texts, labels \u001b[38;5;241m=\u001b[39m \u001b[38;5;28mzip\u001b[39m(\u001b[38;5;241m*\u001b[39mbatch)\n\u001b[1;32m---> 21\u001b[0m     audios \u001b[38;5;241m=\u001b[39m [\u001b[43mwhisper\u001b[49m\u001b[38;5;241;43m.\u001b[39;49m\u001b[43mload_audio\u001b[49m\u001b[43m(\u001b[49m\u001b[43mpath\u001b[49m\u001b[43m)\u001b[49m \u001b[38;5;28;01mfor\u001b[39;00m path \u001b[38;5;129;01min\u001b[39;00m audio_paths]\n\u001b[0;32m     22\u001b[0m     audios \u001b[38;5;241m=\u001b[39m [whisper\u001b[38;5;241m.\u001b[39mpad_or_trim(audio) \u001b[38;5;28;01mfor\u001b[39;00m audio \u001b[38;5;129;01min\u001b[39;00m audios]\n\u001b[0;32m     23\u001b[0m     mel_spectrograms \u001b[38;5;241m=\u001b[39m [whisper\u001b[38;5;241m.\u001b[39mlog_mel_spectrogram(audio)\u001b[38;5;241m.\u001b[39mto(device) \u001b[38;5;28;01mfor\u001b[39;00m audio \u001b[38;5;129;01min\u001b[39;00m audios]\n",
      "File \u001b[1;32mD:\\ProgramData\\anaconda\\envs\\project\\Lib\\site-packages\\whisper\\audio.py:60\u001b[0m, in \u001b[0;36mload_audio\u001b[1;34m(file, sr)\u001b[0m\n\u001b[0;32m     58\u001b[0m     out \u001b[38;5;241m=\u001b[39m run(cmd, capture_output\u001b[38;5;241m=\u001b[39m\u001b[38;5;28;01mTrue\u001b[39;00m, check\u001b[38;5;241m=\u001b[39m\u001b[38;5;28;01mTrue\u001b[39;00m)\u001b[38;5;241m.\u001b[39mstdout\n\u001b[0;32m     59\u001b[0m \u001b[38;5;28;01mexcept\u001b[39;00m CalledProcessError \u001b[38;5;28;01mas\u001b[39;00m e:\n\u001b[1;32m---> 60\u001b[0m     \u001b[38;5;28;01mraise\u001b[39;00m \u001b[38;5;167;01mRuntimeError\u001b[39;00m(\u001b[38;5;124mf\u001b[39m\u001b[38;5;124m\"\u001b[39m\u001b[38;5;124mFailed to load audio: \u001b[39m\u001b[38;5;132;01m{\u001b[39;00me\u001b[38;5;241m.\u001b[39mstderr\u001b[38;5;241m.\u001b[39mdecode()\u001b[38;5;132;01m}\u001b[39;00m\u001b[38;5;124m\"\u001b[39m) \u001b[38;5;28;01mfrom\u001b[39;00m \u001b[38;5;21;01me\u001b[39;00m\n\u001b[0;32m     62\u001b[0m \u001b[38;5;28;01mreturn\u001b[39;00m np\u001b[38;5;241m.\u001b[39mfrombuffer(out, np\u001b[38;5;241m.\u001b[39mint16)\u001b[38;5;241m.\u001b[39mflatten()\u001b[38;5;241m.\u001b[39mastype(np\u001b[38;5;241m.\u001b[39mfloat32) \u001b[38;5;241m/\u001b[39m \u001b[38;5;241m32768.0\u001b[39m\n",
      "\u001b[1;31mRuntimeError\u001b[0m: Failed to load audio: "
     ]
    },
    {
     "name": "stdout",
     "output_type": "stream",
     "text": [
      "Error in callback <bound method _WandbInit._pause_backend of <wandb.sdk.wandb_init._WandbInit object at 0x00000206208EBC20>> (for post_run_cell), with arguments args (<ExecutionResult object at 206c414b440, execution_count=8 error_before_exec=None error_in_exec=Failed to load audio:  info=<ExecutionInfo object at 206c414a600, raw_cell=\"main()\" store_history=True silent=False shell_futures=True cell_id=e6da0ed7-7510-44f7-a47f-e2c76c940059> result=None>,),kwargs {}:\n"
     ]
    },
    {
     "ename": "ConnectionResetError",
     "evalue": "[WinError 10054] An existing connection was forcibly closed by the remote host",
     "output_type": "error",
     "traceback": [
      "\u001b[1;31m---------------------------------------------------------------------------\u001b[0m",
      "\u001b[1;31mConnectionResetError\u001b[0m                      Traceback (most recent call last)",
      "File \u001b[1;32mD:\\ProgramData\\anaconda\\envs\\project\\Lib\\site-packages\\wandb\\sdk\\wandb_init.py:445\u001b[0m, in \u001b[0;36m_WandbInit._pause_backend\u001b[1;34m(self, *args, **kwargs)\u001b[0m\n\u001b[0;32m    443\u001b[0m \u001b[38;5;28;01mif\u001b[39;00m \u001b[38;5;28mself\u001b[39m\u001b[38;5;241m.\u001b[39mbackend\u001b[38;5;241m.\u001b[39minterface \u001b[38;5;129;01mis\u001b[39;00m \u001b[38;5;129;01mnot\u001b[39;00m \u001b[38;5;28;01mNone\u001b[39;00m:\n\u001b[0;32m    444\u001b[0m     logger\u001b[38;5;241m.\u001b[39minfo(\u001b[38;5;124m\"\u001b[39m\u001b[38;5;124mpausing backend\u001b[39m\u001b[38;5;124m\"\u001b[39m)  \u001b[38;5;66;03m# type: ignore\u001b[39;00m\n\u001b[1;32m--> 445\u001b[0m     \u001b[38;5;28;43mself\u001b[39;49m\u001b[38;5;241;43m.\u001b[39;49m\u001b[43mbackend\u001b[49m\u001b[38;5;241;43m.\u001b[39;49m\u001b[43minterface\u001b[49m\u001b[38;5;241;43m.\u001b[39;49m\u001b[43mpublish_pause\u001b[49m\u001b[43m(\u001b[49m\u001b[43m)\u001b[49m\n",
      "File \u001b[1;32mD:\\ProgramData\\anaconda\\envs\\project\\Lib\\site-packages\\wandb\\sdk\\interface\\interface.py:729\u001b[0m, in \u001b[0;36mInterfaceBase.publish_pause\u001b[1;34m(self)\u001b[0m\n\u001b[0;32m    727\u001b[0m \u001b[38;5;28;01mdef\u001b[39;00m \u001b[38;5;21mpublish_pause\u001b[39m(\u001b[38;5;28mself\u001b[39m) \u001b[38;5;241m-\u001b[39m\u001b[38;5;241m>\u001b[39m \u001b[38;5;28;01mNone\u001b[39;00m:\n\u001b[0;32m    728\u001b[0m     pause \u001b[38;5;241m=\u001b[39m pb\u001b[38;5;241m.\u001b[39mPauseRequest()\n\u001b[1;32m--> 729\u001b[0m     \u001b[38;5;28;43mself\u001b[39;49m\u001b[38;5;241;43m.\u001b[39;49m\u001b[43m_publish_pause\u001b[49m\u001b[43m(\u001b[49m\u001b[43mpause\u001b[49m\u001b[43m)\u001b[49m\n",
      "File \u001b[1;32mD:\\ProgramData\\anaconda\\envs\\project\\Lib\\site-packages\\wandb\\sdk\\interface\\interface_shared.py:359\u001b[0m, in \u001b[0;36mInterfaceShared._publish_pause\u001b[1;34m(self, pause)\u001b[0m\n\u001b[0;32m    357\u001b[0m \u001b[38;5;28;01mdef\u001b[39;00m \u001b[38;5;21m_publish_pause\u001b[39m(\u001b[38;5;28mself\u001b[39m, pause: pb\u001b[38;5;241m.\u001b[39mPauseRequest) \u001b[38;5;241m-\u001b[39m\u001b[38;5;241m>\u001b[39m \u001b[38;5;28;01mNone\u001b[39;00m:\n\u001b[0;32m    358\u001b[0m     rec \u001b[38;5;241m=\u001b[39m \u001b[38;5;28mself\u001b[39m\u001b[38;5;241m.\u001b[39m_make_request(pause\u001b[38;5;241m=\u001b[39mpause)\n\u001b[1;32m--> 359\u001b[0m     \u001b[38;5;28;43mself\u001b[39;49m\u001b[38;5;241;43m.\u001b[39;49m\u001b[43m_publish\u001b[49m\u001b[43m(\u001b[49m\u001b[43mrec\u001b[49m\u001b[43m)\u001b[49m\n",
      "File \u001b[1;32mD:\\ProgramData\\anaconda\\envs\\project\\Lib\\site-packages\\wandb\\sdk\\interface\\interface_sock.py:51\u001b[0m, in \u001b[0;36mInterfaceSock._publish\u001b[1;34m(self, record, local)\u001b[0m\n\u001b[0;32m     49\u001b[0m \u001b[38;5;28;01mdef\u001b[39;00m \u001b[38;5;21m_publish\u001b[39m(\u001b[38;5;28mself\u001b[39m, record: \u001b[38;5;124m\"\u001b[39m\u001b[38;5;124mpb.Record\u001b[39m\u001b[38;5;124m\"\u001b[39m, local: Optional[\u001b[38;5;28mbool\u001b[39m] \u001b[38;5;241m=\u001b[39m \u001b[38;5;28;01mNone\u001b[39;00m) \u001b[38;5;241m-\u001b[39m\u001b[38;5;241m>\u001b[39m \u001b[38;5;28;01mNone\u001b[39;00m:\n\u001b[0;32m     50\u001b[0m     \u001b[38;5;28mself\u001b[39m\u001b[38;5;241m.\u001b[39m_assign(record)\n\u001b[1;32m---> 51\u001b[0m     \u001b[38;5;28;43mself\u001b[39;49m\u001b[38;5;241;43m.\u001b[39;49m\u001b[43m_sock_client\u001b[49m\u001b[38;5;241;43m.\u001b[39;49m\u001b[43msend_record_publish\u001b[49m\u001b[43m(\u001b[49m\u001b[43mrecord\u001b[49m\u001b[43m)\u001b[49m\n",
      "File \u001b[1;32mD:\\ProgramData\\anaconda\\envs\\project\\Lib\\site-packages\\wandb\\sdk\\lib\\sock_client.py:222\u001b[0m, in \u001b[0;36mSockClient.send_record_publish\u001b[1;34m(self, record)\u001b[0m\n\u001b[0;32m    220\u001b[0m server_req \u001b[38;5;241m=\u001b[39m spb\u001b[38;5;241m.\u001b[39mServerRequest()\n\u001b[0;32m    221\u001b[0m server_req\u001b[38;5;241m.\u001b[39mrecord_publish\u001b[38;5;241m.\u001b[39mCopyFrom(record)\n\u001b[1;32m--> 222\u001b[0m \u001b[38;5;28;43mself\u001b[39;49m\u001b[38;5;241;43m.\u001b[39;49m\u001b[43msend_server_request\u001b[49m\u001b[43m(\u001b[49m\u001b[43mserver_req\u001b[49m\u001b[43m)\u001b[49m\n",
      "File \u001b[1;32mD:\\ProgramData\\anaconda\\envs\\project\\Lib\\site-packages\\wandb\\sdk\\lib\\sock_client.py:154\u001b[0m, in \u001b[0;36mSockClient.send_server_request\u001b[1;34m(self, msg)\u001b[0m\n\u001b[0;32m    153\u001b[0m \u001b[38;5;28;01mdef\u001b[39;00m \u001b[38;5;21msend_server_request\u001b[39m(\u001b[38;5;28mself\u001b[39m, msg: Any) \u001b[38;5;241m-\u001b[39m\u001b[38;5;241m>\u001b[39m \u001b[38;5;28;01mNone\u001b[39;00m:\n\u001b[1;32m--> 154\u001b[0m     \u001b[38;5;28;43mself\u001b[39;49m\u001b[38;5;241;43m.\u001b[39;49m\u001b[43m_send_message\u001b[49m\u001b[43m(\u001b[49m\u001b[43mmsg\u001b[49m\u001b[43m)\u001b[49m\n",
      "File \u001b[1;32mD:\\ProgramData\\anaconda\\envs\\project\\Lib\\site-packages\\wandb\\sdk\\lib\\sock_client.py:151\u001b[0m, in \u001b[0;36mSockClient._send_message\u001b[1;34m(self, msg)\u001b[0m\n\u001b[0;32m    149\u001b[0m header \u001b[38;5;241m=\u001b[39m struct\u001b[38;5;241m.\u001b[39mpack(\u001b[38;5;124m\"\u001b[39m\u001b[38;5;124m<BI\u001b[39m\u001b[38;5;124m\"\u001b[39m, \u001b[38;5;28mord\u001b[39m(\u001b[38;5;124m\"\u001b[39m\u001b[38;5;124mW\u001b[39m\u001b[38;5;124m\"\u001b[39m), raw_size)\n\u001b[0;32m    150\u001b[0m \u001b[38;5;28;01mwith\u001b[39;00m \u001b[38;5;28mself\u001b[39m\u001b[38;5;241m.\u001b[39m_lock:\n\u001b[1;32m--> 151\u001b[0m     \u001b[38;5;28;43mself\u001b[39;49m\u001b[38;5;241;43m.\u001b[39;49m\u001b[43m_sendall_with_error_handle\u001b[49m\u001b[43m(\u001b[49m\u001b[43mheader\u001b[49m\u001b[43m \u001b[49m\u001b[38;5;241;43m+\u001b[39;49m\u001b[43m \u001b[49m\u001b[43mdata\u001b[49m\u001b[43m)\u001b[49m\n",
      "File \u001b[1;32mD:\\ProgramData\\anaconda\\envs\\project\\Lib\\site-packages\\wandb\\sdk\\lib\\sock_client.py:130\u001b[0m, in \u001b[0;36mSockClient._sendall_with_error_handle\u001b[1;34m(self, data)\u001b[0m\n\u001b[0;32m    128\u001b[0m start_time \u001b[38;5;241m=\u001b[39m time\u001b[38;5;241m.\u001b[39mmonotonic()\n\u001b[0;32m    129\u001b[0m \u001b[38;5;28;01mtry\u001b[39;00m:\n\u001b[1;32m--> 130\u001b[0m     sent \u001b[38;5;241m=\u001b[39m \u001b[38;5;28;43mself\u001b[39;49m\u001b[38;5;241;43m.\u001b[39;49m\u001b[43m_sock\u001b[49m\u001b[38;5;241;43m.\u001b[39;49m\u001b[43msend\u001b[49m\u001b[43m(\u001b[49m\u001b[43mdata\u001b[49m\u001b[43m)\u001b[49m\n\u001b[0;32m    131\u001b[0m     \u001b[38;5;66;03m# sent equal to 0 indicates a closed socket\u001b[39;00m\n\u001b[0;32m    132\u001b[0m     \u001b[38;5;28;01mif\u001b[39;00m sent \u001b[38;5;241m==\u001b[39m \u001b[38;5;241m0\u001b[39m:\n",
      "\u001b[1;31mConnectionResetError\u001b[0m: [WinError 10054] An existing connection was forcibly closed by the remote host"
     ]
    }
   ],
   "source": [
    "main()"
   ]
  },
  {
   "cell_type": "code",
   "execution_count": null,
   "id": "256d51b6-5c6c-44a5-b7d6-62b128f7967a",
   "metadata": {},
   "outputs": [],
   "source": []
  },
  {
   "cell_type": "code",
   "execution_count": null,
   "id": "be734f84-09c9-4e5f-bfdb-1d6554af566a",
   "metadata": {},
   "outputs": [],
   "source": []
  },
  {
   "cell_type": "code",
   "execution_count": null,
   "id": "b1fde0f3-d393-43ca-88f8-f200f8470521",
   "metadata": {},
   "outputs": [],
   "source": []
  },
  {
   "cell_type": "code",
   "execution_count": null,
   "id": "c550aef6-da08-4264-a5a0-4170d3136b6a",
   "metadata": {},
   "outputs": [],
   "source": []
  },
  {
   "cell_type": "code",
   "execution_count": null,
   "id": "7529c700-af68-4abb-ba14-61c4e877fb83",
   "metadata": {},
   "outputs": [],
   "source": []
  },
  {
   "cell_type": "code",
   "execution_count": null,
   "id": "bf7a11d9-59e3-40e4-a16b-bfc5ad993fe5",
   "metadata": {},
   "outputs": [],
   "source": []
  }
 ],
 "metadata": {
  "kernelspec": {
   "display_name": "Python 3 (ipykernel)",
   "language": "python",
   "name": "python3"
  },
  "language_info": {
   "codemirror_mode": {
    "name": "ipython",
    "version": 3
   },
   "file_extension": ".py",
   "mimetype": "text/x-python",
   "name": "python",
   "nbconvert_exporter": "python",
   "pygments_lexer": "ipython3",
   "version": "3.12.7"
  }
 },
 "nbformat": 4,
 "nbformat_minor": 5
}
